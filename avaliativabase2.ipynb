{
 "cells": [
  {
   "cell_type": "code",
   "execution_count": 1,
   "id": "9a619ee6",
   "metadata": {
    "_cell_guid": "b1076dfc-b9ad-4769-8c92-a6c4dae69d19",
    "_uuid": "8f2839f25d086af736a60e9eeb907d3b93b6e0e5",
    "execution": {
     "iopub.execute_input": "2025-06-03T15:42:46.374680Z",
     "iopub.status.busy": "2025-06-03T15:42:46.373976Z",
     "iopub.status.idle": "2025-06-03T15:42:48.681175Z",
     "shell.execute_reply": "2025-06-03T15:42:48.680142Z"
    },
    "papermill": {
     "duration": 2.313321,
     "end_time": "2025-06-03T15:42:48.682930",
     "exception": false,
     "start_time": "2025-06-03T15:42:46.369609",
     "status": "completed"
    },
    "tags": []
   },
   "outputs": [],
   "source": [
    "import pandas as pd"
   ]
  },
  {
   "cell_type": "code",
   "execution_count": 2,
   "id": "cbec4e3c",
   "metadata": {
    "execution": {
     "iopub.execute_input": "2025-06-03T15:42:48.690437Z",
     "iopub.status.busy": "2025-06-03T15:42:48.689839Z",
     "iopub.status.idle": "2025-06-03T15:42:48.739935Z",
     "shell.execute_reply": "2025-06-03T15:42:48.739093Z"
    },
    "papermill": {
     "duration": 0.055188,
     "end_time": "2025-06-03T15:42:48.741490",
     "exception": false,
     "start_time": "2025-06-03T15:42:48.686302",
     "status": "completed"
    },
    "tags": []
   },
   "outputs": [
    {
     "data": {
      "text/html": [
       "<div>\n",
       "<style scoped>\n",
       "    .dataframe tbody tr th:only-of-type {\n",
       "        vertical-align: middle;\n",
       "    }\n",
       "\n",
       "    .dataframe tbody tr th {\n",
       "        vertical-align: top;\n",
       "    }\n",
       "\n",
       "    .dataframe thead th {\n",
       "        text-align: right;\n",
       "    }\n",
       "</style>\n",
       "<table border=\"1\" class=\"dataframe\">\n",
       "  <thead>\n",
       "    <tr style=\"text-align: right;\">\n",
       "      <th></th>\n",
       "      <th>nome_completo</th>\n",
       "      <th>curso</th>\n",
       "    </tr>\n",
       "  </thead>\n",
       "  <tbody>\n",
       "    <tr>\n",
       "      <th>0</th>\n",
       "      <td>Beatriz Ferreira de Almeida</td>\n",
       "      <td>Engenharia civil</td>\n",
       "    </tr>\n",
       "    <tr>\n",
       "      <th>1</th>\n",
       "      <td>Lucas Henrique da costa</td>\n",
       "      <td>ciência da computação</td>\n",
       "    </tr>\n",
       "    <tr>\n",
       "      <th>2</th>\n",
       "      <td>Fernanda Lima</td>\n",
       "      <td>ADMINISTRAÇÃO</td>\n",
       "    </tr>\n",
       "    <tr>\n",
       "      <th>3</th>\n",
       "      <td>Paulo Roberto da silva</td>\n",
       "      <td>arquitetura e urbanismo</td>\n",
       "    </tr>\n",
       "  </tbody>\n",
       "</table>\n",
       "</div>"
      ],
      "text/plain": [
       "                 nome_completo                     curso\n",
       "0  Beatriz Ferreira de Almeida          Engenharia civil\n",
       "1      Lucas Henrique da costa    ciência da computação \n",
       "2               Fernanda Lima              ADMINISTRAÇÃO\n",
       "3       Paulo Roberto da silva   arquitetura e urbanismo"
      ]
     },
     "execution_count": 2,
     "metadata": {},
     "output_type": "execute_result"
    }
   ],
   "source": [
    "df = pd.read_csv('/kaggle/input/alunos-base2/alunos_base_2.csv')\n",
    "df.head()\n"
   ]
  },
  {
   "cell_type": "markdown",
   "id": "067fe838",
   "metadata": {
    "papermill": {
     "duration": 0.00246,
     "end_time": "2025-06-03T15:42:48.746788",
     "exception": false,
     "start_time": "2025-06-03T15:42:48.744328",
     "status": "completed"
    },
    "tags": []
   },
   "source": [
    "Verificar caracteres"
   ]
  },
  {
   "cell_type": "code",
   "execution_count": 3,
   "id": "0962b4d1",
   "metadata": {
    "execution": {
     "iopub.execute_input": "2025-06-03T15:42:48.754388Z",
     "iopub.status.busy": "2025-06-03T15:42:48.753602Z",
     "iopub.status.idle": "2025-06-03T15:42:48.766888Z",
     "shell.execute_reply": "2025-06-03T15:42:48.765935Z"
    },
    "papermill": {
     "duration": 0.018669,
     "end_time": "2025-06-03T15:42:48.768485",
     "exception": false,
     "start_time": "2025-06-03T15:42:48.749816",
     "status": "completed"
    },
    "tags": []
   },
   "outputs": [
    {
     "data": {
      "text/html": [
       "<div>\n",
       "<style scoped>\n",
       "    .dataframe tbody tr th:only-of-type {\n",
       "        vertical-align: middle;\n",
       "    }\n",
       "\n",
       "    .dataframe tbody tr th {\n",
       "        vertical-align: top;\n",
       "    }\n",
       "\n",
       "    .dataframe thead th {\n",
       "        text-align: right;\n",
       "    }\n",
       "</style>\n",
       "<table border=\"1\" class=\"dataframe\">\n",
       "  <thead>\n",
       "    <tr style=\"text-align: right;\">\n",
       "      <th></th>\n",
       "      <th>nome_completo</th>\n",
       "      <th>curso</th>\n",
       "      <th>VefiricarTamanho</th>\n",
       "    </tr>\n",
       "  </thead>\n",
       "  <tbody>\n",
       "    <tr>\n",
       "      <th>0</th>\n",
       "      <td>Beatriz Ferreira de Almeida</td>\n",
       "      <td>Engenharia civil</td>\n",
       "      <td>27</td>\n",
       "    </tr>\n",
       "    <tr>\n",
       "      <th>1</th>\n",
       "      <td>Lucas Henrique da costa</td>\n",
       "      <td>ciência da computação</td>\n",
       "      <td>23</td>\n",
       "    </tr>\n",
       "    <tr>\n",
       "      <th>2</th>\n",
       "      <td>Fernanda Lima</td>\n",
       "      <td>ADMINISTRAÇÃO</td>\n",
       "      <td>16</td>\n",
       "    </tr>\n",
       "    <tr>\n",
       "      <th>3</th>\n",
       "      <td>Paulo Roberto da silva</td>\n",
       "      <td>arquitetura e urbanismo</td>\n",
       "      <td>22</td>\n",
       "    </tr>\n",
       "  </tbody>\n",
       "</table>\n",
       "</div>"
      ],
      "text/plain": [
       "                 nome_completo                     curso  VefiricarTamanho\n",
       "0  Beatriz Ferreira de Almeida          Engenharia civil                27\n",
       "1      Lucas Henrique da costa    ciência da computação                 23\n",
       "2               Fernanda Lima              ADMINISTRAÇÃO                16\n",
       "3       Paulo Roberto da silva   arquitetura e urbanismo                22"
      ]
     },
     "execution_count": 3,
     "metadata": {},
     "output_type": "execute_result"
    }
   ],
   "source": [
    "df[\"VefiricarTamanho\"] = df['nome_completo'].str.len()\n",
    "df.head()"
   ]
  },
  {
   "cell_type": "markdown",
   "id": "cb01241b",
   "metadata": {
    "papermill": {
     "duration": 0.002762,
     "end_time": "2025-06-03T15:42:48.774307",
     "exception": false,
     "start_time": "2025-06-03T15:42:48.771545",
     "status": "completed"
    },
    "tags": []
   },
   "source": [
    "Remover sobra de caracteres e verificar novamente"
   ]
  },
  {
   "cell_type": "code",
   "execution_count": 4,
   "id": "f47db8ea",
   "metadata": {
    "execution": {
     "iopub.execute_input": "2025-06-03T15:42:48.781253Z",
     "iopub.status.busy": "2025-06-03T15:42:48.780851Z",
     "iopub.status.idle": "2025-06-03T15:42:48.792345Z",
     "shell.execute_reply": "2025-06-03T15:42:48.791292Z"
    },
    "papermill": {
     "duration": 0.016698,
     "end_time": "2025-06-03T15:42:48.793843",
     "exception": false,
     "start_time": "2025-06-03T15:42:48.777145",
     "status": "completed"
    },
    "tags": []
   },
   "outputs": [
    {
     "data": {
      "text/html": [
       "<div>\n",
       "<style scoped>\n",
       "    .dataframe tbody tr th:only-of-type {\n",
       "        vertical-align: middle;\n",
       "    }\n",
       "\n",
       "    .dataframe tbody tr th {\n",
       "        vertical-align: top;\n",
       "    }\n",
       "\n",
       "    .dataframe thead th {\n",
       "        text-align: right;\n",
       "    }\n",
       "</style>\n",
       "<table border=\"1\" class=\"dataframe\">\n",
       "  <thead>\n",
       "    <tr style=\"text-align: right;\">\n",
       "      <th></th>\n",
       "      <th>nome_completo</th>\n",
       "      <th>curso</th>\n",
       "      <th>VefiricarTamanho</th>\n",
       "      <th>VerificarTamanho</th>\n",
       "    </tr>\n",
       "  </thead>\n",
       "  <tbody>\n",
       "    <tr>\n",
       "      <th>0</th>\n",
       "      <td>Beatriz Ferreira de Almeida</td>\n",
       "      <td>Engenharia civil</td>\n",
       "      <td>27</td>\n",
       "      <td>27</td>\n",
       "    </tr>\n",
       "    <tr>\n",
       "      <th>1</th>\n",
       "      <td>Lucas Henrique da costa</td>\n",
       "      <td>ciência da computação</td>\n",
       "      <td>23</td>\n",
       "      <td>23</td>\n",
       "    </tr>\n",
       "    <tr>\n",
       "      <th>2</th>\n",
       "      <td>Fernanda Lima</td>\n",
       "      <td>ADMINISTRAÇÃO</td>\n",
       "      <td>16</td>\n",
       "      <td>13</td>\n",
       "    </tr>\n",
       "    <tr>\n",
       "      <th>3</th>\n",
       "      <td>Paulo Roberto da silva</td>\n",
       "      <td>arquitetura e urbanismo</td>\n",
       "      <td>22</td>\n",
       "      <td>22</td>\n",
       "    </tr>\n",
       "  </tbody>\n",
       "</table>\n",
       "</div>"
      ],
      "text/plain": [
       "                 nome_completo                     curso  VefiricarTamanho  \\\n",
       "0  Beatriz Ferreira de Almeida          Engenharia civil                27   \n",
       "1      Lucas Henrique da costa    ciência da computação                 23   \n",
       "2                Fernanda Lima             ADMINISTRAÇÃO                16   \n",
       "3       Paulo Roberto da silva   arquitetura e urbanismo                22   \n",
       "\n",
       "   VerificarTamanho  \n",
       "0                27  \n",
       "1                23  \n",
       "2                13  \n",
       "3                22  "
      ]
     },
     "execution_count": 4,
     "metadata": {},
     "output_type": "execute_result"
    }
   ],
   "source": [
    "df[\"nome_completo\"] = df[\"nome_completo\"].str.strip()\n",
    "df[\"VerificarTamanho\"] = df['nome_completo'].str.len()\n",
    "df.head()"
   ]
  },
  {
   "cell_type": "code",
   "execution_count": 5,
   "id": "8d157138",
   "metadata": {
    "execution": {
     "iopub.execute_input": "2025-06-03T15:42:48.801621Z",
     "iopub.status.busy": "2025-06-03T15:42:48.800908Z",
     "iopub.status.idle": "2025-06-03T15:42:48.823842Z",
     "shell.execute_reply": "2025-06-03T15:42:48.822890Z"
    },
    "papermill": {
     "duration": 0.028178,
     "end_time": "2025-06-03T15:42:48.825325",
     "exception": false,
     "start_time": "2025-06-03T15:42:48.797147",
     "status": "completed"
    },
    "tags": []
   },
   "outputs": [
    {
     "data": {
      "text/html": [
       "<div>\n",
       "<style scoped>\n",
       "    .dataframe tbody tr th:only-of-type {\n",
       "        vertical-align: middle;\n",
       "    }\n",
       "\n",
       "    .dataframe tbody tr th {\n",
       "        vertical-align: top;\n",
       "    }\n",
       "\n",
       "    .dataframe thead th {\n",
       "        text-align: right;\n",
       "    }\n",
       "</style>\n",
       "<table border=\"1\" class=\"dataframe\">\n",
       "  <thead>\n",
       "    <tr style=\"text-align: right;\">\n",
       "      <th></th>\n",
       "      <th>nome_completo</th>\n",
       "      <th>curso</th>\n",
       "    </tr>\n",
       "  </thead>\n",
       "  <tbody>\n",
       "    <tr>\n",
       "      <th>0</th>\n",
       "      <td>Beatriz Ferreira de Almeida</td>\n",
       "      <td>Engenharia civil</td>\n",
       "    </tr>\n",
       "    <tr>\n",
       "      <th>1</th>\n",
       "      <td>Lucas Henrique da costa</td>\n",
       "      <td>ciência da computação</td>\n",
       "    </tr>\n",
       "    <tr>\n",
       "      <th>2</th>\n",
       "      <td>Fernanda Lima</td>\n",
       "      <td>ADMINISTRAÇÃO</td>\n",
       "    </tr>\n",
       "    <tr>\n",
       "      <th>3</th>\n",
       "      <td>Paulo Roberto da silva</td>\n",
       "      <td>arquitetura e urbanismo</td>\n",
       "    </tr>\n",
       "  </tbody>\n",
       "</table>\n",
       "</div>"
      ],
      "text/plain": [
       "                 nome_completo                     curso\n",
       "0  Beatriz Ferreira de Almeida          Engenharia civil\n",
       "1      Lucas Henrique da costa    ciência da computação \n",
       "2                Fernanda Lima             ADMINISTRAÇÃO\n",
       "3       Paulo Roberto da silva   arquitetura e urbanismo"
      ]
     },
     "execution_count": 5,
     "metadata": {},
     "output_type": "execute_result"
    }
   ],
   "source": [
    "df= df.drop('VefiricarTamanho', axis=1)\n",
    "df= df.drop('VerificarTamanho', axis=1)\n",
    "df.head()"
   ]
  },
  {
   "cell_type": "code",
   "execution_count": 6,
   "id": "7a6f3e02",
   "metadata": {
    "execution": {
     "iopub.execute_input": "2025-06-03T15:42:48.832992Z",
     "iopub.status.busy": "2025-06-03T15:42:48.832679Z",
     "iopub.status.idle": "2025-06-03T15:42:48.842201Z",
     "shell.execute_reply": "2025-06-03T15:42:48.841193Z"
    },
    "papermill": {
     "duration": 0.015122,
     "end_time": "2025-06-03T15:42:48.843709",
     "exception": false,
     "start_time": "2025-06-03T15:42:48.828587",
     "status": "completed"
    },
    "tags": []
   },
   "outputs": [
    {
     "data": {
      "text/html": [
       "<div>\n",
       "<style scoped>\n",
       "    .dataframe tbody tr th:only-of-type {\n",
       "        vertical-align: middle;\n",
       "    }\n",
       "\n",
       "    .dataframe tbody tr th {\n",
       "        vertical-align: top;\n",
       "    }\n",
       "\n",
       "    .dataframe thead th {\n",
       "        text-align: right;\n",
       "    }\n",
       "</style>\n",
       "<table border=\"1\" class=\"dataframe\">\n",
       "  <thead>\n",
       "    <tr style=\"text-align: right;\">\n",
       "      <th></th>\n",
       "      <th>nome_completo</th>\n",
       "      <th>curso</th>\n",
       "    </tr>\n",
       "  </thead>\n",
       "  <tbody>\n",
       "    <tr>\n",
       "      <th>0</th>\n",
       "      <td>Beatriz Ferreira de Almeida</td>\n",
       "      <td>Engenharia Civil</td>\n",
       "    </tr>\n",
       "    <tr>\n",
       "      <th>1</th>\n",
       "      <td>Lucas Henrique da costa</td>\n",
       "      <td>Ciência Da Computação</td>\n",
       "    </tr>\n",
       "    <tr>\n",
       "      <th>2</th>\n",
       "      <td>Fernanda Lima</td>\n",
       "      <td>Administração</td>\n",
       "    </tr>\n",
       "    <tr>\n",
       "      <th>3</th>\n",
       "      <td>Paulo Roberto da silva</td>\n",
       "      <td>Arquitetura E Urbanismo</td>\n",
       "    </tr>\n",
       "  </tbody>\n",
       "</table>\n",
       "</div>"
      ],
      "text/plain": [
       "                 nome_completo                     curso\n",
       "0  Beatriz Ferreira de Almeida          Engenharia Civil\n",
       "1      Lucas Henrique da costa    Ciência Da Computação \n",
       "2                Fernanda Lima             Administração\n",
       "3       Paulo Roberto da silva   Arquitetura E Urbanismo"
      ]
     },
     "execution_count": 6,
     "metadata": {},
     "output_type": "execute_result"
    }
   ],
   "source": [
    "df[\"curso\"] = df[\"curso\"].str.title()\n",
    "df.head()"
   ]
  },
  {
   "cell_type": "code",
   "execution_count": 7,
   "id": "0255c8fc",
   "metadata": {
    "execution": {
     "iopub.execute_input": "2025-06-03T15:42:48.852455Z",
     "iopub.status.busy": "2025-06-03T15:42:48.851654Z",
     "iopub.status.idle": "2025-06-03T15:42:48.858918Z",
     "shell.execute_reply": "2025-06-03T15:42:48.857964Z"
    },
    "papermill": {
     "duration": 0.013309,
     "end_time": "2025-06-03T15:42:48.860588",
     "exception": false,
     "start_time": "2025-06-03T15:42:48.847279",
     "status": "completed"
    },
    "tags": []
   },
   "outputs": [
    {
     "name": "stdout",
     "output_type": "stream",
     "text": [
      "                 nome_completo                    curso\n",
      "0  Beatriz Ferreira de Almeida         Engenharia Civil\n",
      "1      Lucas Henrique da costa    Ciência Da Computação\n",
      "2                Fernanda Lima            Administração\n",
      "3       Paulo Roberto da silva  Arquitetura E Urbanismo\n"
     ]
    }
   ],
   "source": [
    "df[\"curso\"] = df[\"curso\"].str.strip()\n",
    "print(df)"
   ]
  },
  {
   "cell_type": "markdown",
   "id": "a78b6cab",
   "metadata": {
    "papermill": {
     "duration": 0.003034,
     "end_time": "2025-06-03T15:42:48.867182",
     "exception": false,
     "start_time": "2025-06-03T15:42:48.864148",
     "status": "completed"
    },
    "tags": []
   },
   "source": [
    "ordem alfabética"
   ]
  },
  {
   "cell_type": "code",
   "execution_count": 8,
   "id": "05bf5b7c",
   "metadata": {
    "execution": {
     "iopub.execute_input": "2025-06-03T15:42:48.875002Z",
     "iopub.status.busy": "2025-06-03T15:42:48.874681Z",
     "iopub.status.idle": "2025-06-03T15:42:48.882557Z",
     "shell.execute_reply": "2025-06-03T15:42:48.881550Z"
    },
    "papermill": {
     "duration": 0.013762,
     "end_time": "2025-06-03T15:42:48.884238",
     "exception": false,
     "start_time": "2025-06-03T15:42:48.870476",
     "status": "completed"
    },
    "tags": []
   },
   "outputs": [
    {
     "name": "stdout",
     "output_type": "stream",
     "text": [
      "                 nome_completo                    curso\n",
      "0  Beatriz Ferreira de Almeida         Engenharia Civil\n",
      "2                Fernanda Lima            Administração\n",
      "1      Lucas Henrique da costa    Ciência Da Computação\n",
      "3       Paulo Roberto da silva  Arquitetura E Urbanismo\n"
     ]
    }
   ],
   "source": [
    "df = df.sort_values(by='nome_completo', key=lambda x: x.str.lower())\n",
    "print(df)"
   ]
  },
  {
   "cell_type": "code",
   "execution_count": 9,
   "id": "58a30c5e",
   "metadata": {
    "execution": {
     "iopub.execute_input": "2025-06-03T15:42:48.892858Z",
     "iopub.status.busy": "2025-06-03T15:42:48.892530Z",
     "iopub.status.idle": "2025-06-03T15:42:48.901310Z",
     "shell.execute_reply": "2025-06-03T15:42:48.900284Z"
    },
    "papermill": {
     "duration": 0.014777,
     "end_time": "2025-06-03T15:42:48.902740",
     "exception": false,
     "start_time": "2025-06-03T15:42:48.887963",
     "status": "completed"
    },
    "tags": []
   },
   "outputs": [
    {
     "data": {
      "text/html": [
       "<div>\n",
       "<style scoped>\n",
       "    .dataframe tbody tr th:only-of-type {\n",
       "        vertical-align: middle;\n",
       "    }\n",
       "\n",
       "    .dataframe tbody tr th {\n",
       "        vertical-align: top;\n",
       "    }\n",
       "\n",
       "    .dataframe thead th {\n",
       "        text-align: right;\n",
       "    }\n",
       "</style>\n",
       "<table border=\"1\" class=\"dataframe\">\n",
       "  <thead>\n",
       "    <tr style=\"text-align: right;\">\n",
       "      <th></th>\n",
       "      <th>nome_completo</th>\n",
       "      <th>curso</th>\n",
       "    </tr>\n",
       "  </thead>\n",
       "  <tbody>\n",
       "    <tr>\n",
       "      <th>0</th>\n",
       "      <td>Beatriz Ferreira de Almeida</td>\n",
       "      <td>Engenharia Civil</td>\n",
       "    </tr>\n",
       "    <tr>\n",
       "      <th>2</th>\n",
       "      <td>Fernanda Lima</td>\n",
       "      <td>Administração</td>\n",
       "    </tr>\n",
       "    <tr>\n",
       "      <th>1</th>\n",
       "      <td>Lucas Henrique da costa</td>\n",
       "      <td>Ciência Da Computação</td>\n",
       "    </tr>\n",
       "    <tr>\n",
       "      <th>3</th>\n",
       "      <td>Paulo Roberto da silva</td>\n",
       "      <td>Arquitetura E Urbanismo</td>\n",
       "    </tr>\n",
       "  </tbody>\n",
       "</table>\n",
       "</div>"
      ],
      "text/plain": [
       "                 nome_completo                    curso\n",
       "0  Beatriz Ferreira de Almeida         Engenharia Civil\n",
       "2                Fernanda Lima            Administração\n",
       "1      Lucas Henrique da costa    Ciência Da Computação\n",
       "3       Paulo Roberto da silva  Arquitetura E Urbanismo"
      ]
     },
     "execution_count": 9,
     "metadata": {},
     "output_type": "execute_result"
    }
   ],
   "source": [
    "df"
   ]
  }
 ],
 "metadata": {
  "kaggle": {
   "accelerator": "none",
   "dataSources": [
    {
     "datasetId": 7582134,
     "sourceId": 12048150,
     "sourceType": "datasetVersion"
    }
   ],
   "dockerImageVersionId": 31040,
   "isGpuEnabled": false,
   "isInternetEnabled": false,
   "language": "python",
   "sourceType": "notebook"
  },
  "kernelspec": {
   "display_name": "Python 3",
   "language": "python",
   "name": "python3"
  },
  "language_info": {
   "codemirror_mode": {
    "name": "ipython",
    "version": 3
   },
   "file_extension": ".py",
   "mimetype": "text/x-python",
   "name": "python",
   "nbconvert_exporter": "python",
   "pygments_lexer": "ipython3",
   "version": "3.11.11"
  },
  "papermill": {
   "default_parameters": {},
   "duration": 8.830772,
   "end_time": "2025-06-03T15:42:49.425838",
   "environment_variables": {},
   "exception": null,
   "input_path": "__notebook__.ipynb",
   "output_path": "__notebook__.ipynb",
   "parameters": {},
   "start_time": "2025-06-03T15:42:40.595066",
   "version": "2.6.0"
  }
 },
 "nbformat": 4,
 "nbformat_minor": 5
}
