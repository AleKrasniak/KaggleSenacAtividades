{
 "cells": [
  {
   "cell_type": "code",
   "execution_count": 1,
   "id": "a5d4bc43",
   "metadata": {
    "_cell_guid": "b1076dfc-b9ad-4769-8c92-a6c4dae69d19",
    "_uuid": "8f2839f25d086af736a60e9eeb907d3b93b6e0e5",
    "execution": {
     "iopub.execute_input": "2025-06-13T19:25:27.934780Z",
     "iopub.status.busy": "2025-06-13T19:25:27.934460Z",
     "iopub.status.idle": "2025-06-13T19:25:30.335824Z",
     "shell.execute_reply": "2025-06-13T19:25:30.335104Z"
    },
    "papermill": {
     "duration": 2.40768,
     "end_time": "2025-06-13T19:25:30.337540",
     "exception": false,
     "start_time": "2025-06-13T19:25:27.929860",
     "status": "completed"
    },
    "tags": []
   },
   "outputs": [],
   "source": [
    "import pandas as pd \n",
    "import numpy as np"
   ]
  },
  {
   "cell_type": "code",
   "execution_count": 2,
   "id": "4aa61a44",
   "metadata": {
    "execution": {
     "iopub.execute_input": "2025-06-13T19:25:30.342855Z",
     "iopub.status.busy": "2025-06-13T19:25:30.342468Z",
     "iopub.status.idle": "2025-06-13T19:25:30.389137Z",
     "shell.execute_reply": "2025-06-13T19:25:30.388147Z"
    },
    "papermill": {
     "duration": 0.050866,
     "end_time": "2025-06-13T19:25:30.390548",
     "exception": false,
     "start_time": "2025-06-13T19:25:30.339682",
     "status": "completed"
    },
    "tags": []
   },
   "outputs": [
    {
     "data": {
      "text/html": [
       "<div>\n",
       "<style scoped>\n",
       "    .dataframe tbody tr th:only-of-type {\n",
       "        vertical-align: middle;\n",
       "    }\n",
       "\n",
       "    .dataframe tbody tr th {\n",
       "        vertical-align: top;\n",
       "    }\n",
       "\n",
       "    .dataframe thead th {\n",
       "        text-align: right;\n",
       "    }\n",
       "</style>\n",
       "<table border=\"1\" class=\"dataframe\">\n",
       "  <thead>\n",
       "    <tr style=\"text-align: right;\">\n",
       "      <th></th>\n",
       "      <th>cadastro</th>\n",
       "    </tr>\n",
       "  </thead>\n",
       "  <tbody>\n",
       "    <tr>\n",
       "      <th>0</th>\n",
       "      <td>Nome: Lucas Martins | Email: lucas.m@exemplo.c...</td>\n",
       "    </tr>\n",
       "    <tr>\n",
       "      <th>1</th>\n",
       "      <td>Curso: Design Gráfico | Nome: Bruna S. Lopes |...</td>\n",
       "    </tr>\n",
       "    <tr>\n",
       "      <th>2</th>\n",
       "      <td>Email: joao.oliveira@exemplo.com | Nome: João ...</td>\n",
       "    </tr>\n",
       "    <tr>\n",
       "      <th>3</th>\n",
       "      <td>Engenharia Elétrica - carolina.almeida@exemplo...</td>\n",
       "    </tr>\n",
       "  </tbody>\n",
       "</table>\n",
       "</div>"
      ],
      "text/plain": [
       "                                            cadastro\n",
       "0  Nome: Lucas Martins | Email: lucas.m@exemplo.c...\n",
       "1  Curso: Design Gráfico | Nome: Bruna S. Lopes |...\n",
       "2  Email: joao.oliveira@exemplo.com | Nome: João ...\n",
       "3  Engenharia Elétrica - carolina.almeida@exemplo..."
      ]
     },
     "execution_count": 2,
     "metadata": {},
     "output_type": "execute_result"
    }
   ],
   "source": [
    "df = pd.read_csv('/kaggle/input/alunosbase5/alunos_base_5.csv')\n",
    "df"
   ]
  },
  {
   "cell_type": "code",
   "execution_count": 3,
   "id": "3fa58277",
   "metadata": {
    "execution": {
     "iopub.execute_input": "2025-06-13T19:25:30.395542Z",
     "iopub.status.busy": "2025-06-13T19:25:30.395271Z",
     "iopub.status.idle": "2025-06-13T19:25:30.411112Z",
     "shell.execute_reply": "2025-06-13T19:25:30.410370Z"
    },
    "papermill": {
     "duration": 0.019797,
     "end_time": "2025-06-13T19:25:30.412387",
     "exception": false,
     "start_time": "2025-06-13T19:25:30.392590",
     "status": "completed"
    },
    "tags": []
   },
   "outputs": [
    {
     "data": {
      "text/html": [
       "<div>\n",
       "<style scoped>\n",
       "    .dataframe tbody tr th:only-of-type {\n",
       "        vertical-align: middle;\n",
       "    }\n",
       "\n",
       "    .dataframe tbody tr th {\n",
       "        vertical-align: top;\n",
       "    }\n",
       "\n",
       "    .dataframe thead th {\n",
       "        text-align: right;\n",
       "    }\n",
       "</style>\n",
       "<table border=\"1\" class=\"dataframe\">\n",
       "  <thead>\n",
       "    <tr style=\"text-align: right;\">\n",
       "      <th></th>\n",
       "      <th>Nome</th>\n",
       "      <th>Email</th>\n",
       "      <th>Curso</th>\n",
       "    </tr>\n",
       "  </thead>\n",
       "  <tbody>\n",
       "    <tr>\n",
       "      <th>0</th>\n",
       "      <td>Lucas Martins</td>\n",
       "      <td>lucas.m@exemplo.com</td>\n",
       "      <td>Eng. Mecânica</td>\n",
       "    </tr>\n",
       "    <tr>\n",
       "      <th>1</th>\n",
       "      <td>Bruna S. Lopes</td>\n",
       "      <td>brunal@exemplo.com</td>\n",
       "      <td>Design Gráfico</td>\n",
       "    </tr>\n",
       "    <tr>\n",
       "      <th>2</th>\n",
       "      <td>João Oliveira</td>\n",
       "      <td>joao.oliveira@exemplo.com</td>\n",
       "      <td>Letras</td>\n",
       "    </tr>\n",
       "    <tr>\n",
       "      <th>3</th>\n",
       "      <td>Carolina Almeida</td>\n",
       "      <td>carolina.almeida@exemplo.com</td>\n",
       "      <td>Engenharia Elétrica</td>\n",
       "    </tr>\n",
       "  </tbody>\n",
       "</table>\n",
       "</div>"
      ],
      "text/plain": [
       "               Nome                         Email                Curso\n",
       "0     Lucas Martins           lucas.m@exemplo.com        Eng. Mecânica\n",
       "1    Bruna S. Lopes            brunal@exemplo.com       Design Gráfico\n",
       "2     João Oliveira     joao.oliveira@exemplo.com               Letras\n",
       "3  Carolina Almeida  carolina.almeida@exemplo.com  Engenharia Elétrica"
      ]
     },
     "execution_count": 3,
     "metadata": {},
     "output_type": "execute_result"
    }
   ],
   "source": [
    "def transformar_palavras_pcoluna(linha):\n",
    "    if (\"-\" in linha) and (\": \" not in linha):\n",
    "        partes = [p.strip() for p in linha.split(\" - \")]\n",
    "        resultado = {}\n",
    "        if len(partes) == 3:\n",
    "            resultado[\"Curso\"] = partes[0]\n",
    "            resultado[\"Email\"] = partes[1]\n",
    "            resultado[\"Nome\"] = partes[2]\n",
    "        return resultado\n",
    "    else:\n",
    "        separar = linha.split(\" | \")\n",
    "        resultado = {}\n",
    "        for s in separar:\n",
    "            if \": \" in s:\n",
    "                chave, valor = s.split(\": \", 1)\n",
    "                resultado[chave.strip()] = valor.strip()\n",
    "        return resultado\n",
    "        \n",
    "df= pd.DataFrame(df[\"cadastro\"].apply(transformar_palavras_pcoluna).to_list())\n",
    "\n",
    "df"
   ]
  },
  {
   "cell_type": "code",
   "execution_count": 4,
   "id": "4eb7d4ba",
   "metadata": {
    "execution": {
     "iopub.execute_input": "2025-06-13T19:25:30.417572Z",
     "iopub.status.busy": "2025-06-13T19:25:30.417303Z",
     "iopub.status.idle": "2025-06-13T19:25:30.429234Z",
     "shell.execute_reply": "2025-06-13T19:25:30.428439Z"
    },
    "papermill": {
     "duration": 0.016045,
     "end_time": "2025-06-13T19:25:30.430646",
     "exception": false,
     "start_time": "2025-06-13T19:25:30.414601",
     "status": "completed"
    },
    "tags": []
   },
   "outputs": [
    {
     "data": {
      "text/html": [
       "<div>\n",
       "<style scoped>\n",
       "    .dataframe tbody tr th:only-of-type {\n",
       "        vertical-align: middle;\n",
       "    }\n",
       "\n",
       "    .dataframe tbody tr th {\n",
       "        vertical-align: top;\n",
       "    }\n",
       "\n",
       "    .dataframe thead th {\n",
       "        text-align: right;\n",
       "    }\n",
       "</style>\n",
       "<table border=\"1\" class=\"dataframe\">\n",
       "  <thead>\n",
       "    <tr style=\"text-align: right;\">\n",
       "      <th></th>\n",
       "      <th>Nome</th>\n",
       "      <th>Email</th>\n",
       "      <th>Curso</th>\n",
       "    </tr>\n",
       "  </thead>\n",
       "  <tbody>\n",
       "    <tr>\n",
       "      <th>0</th>\n",
       "      <td>Lucas Martins</td>\n",
       "      <td>lucas.m@exemplo.com</td>\n",
       "      <td>Eng. Mecânica</td>\n",
       "    </tr>\n",
       "    <tr>\n",
       "      <th>1</th>\n",
       "      <td>Bruna S. Lopes</td>\n",
       "      <td>brunal@exemplo.com</td>\n",
       "      <td>Design Gráfico</td>\n",
       "    </tr>\n",
       "    <tr>\n",
       "      <th>2</th>\n",
       "      <td>João Oliveira</td>\n",
       "      <td>joao.oliveira@exemplo.com</td>\n",
       "      <td>Letras</td>\n",
       "    </tr>\n",
       "    <tr>\n",
       "      <th>3</th>\n",
       "      <td>Carolina Almeida</td>\n",
       "      <td>carolina.almeida@exemplo.com</td>\n",
       "      <td>Engenharia Elétrica</td>\n",
       "    </tr>\n",
       "  </tbody>\n",
       "</table>\n",
       "</div>"
      ],
      "text/plain": [
       "               Nome                         Email                Curso\n",
       "0     Lucas Martins           lucas.m@exemplo.com        Eng. Mecânica\n",
       "1    Bruna S. Lopes            brunal@exemplo.com       Design Gráfico\n",
       "2     João Oliveira     joao.oliveira@exemplo.com               Letras\n",
       "3  Carolina Almeida  carolina.almeida@exemplo.com  Engenharia Elétrica"
      ]
     },
     "execution_count": 4,
     "metadata": {},
     "output_type": "execute_result"
    }
   ],
   "source": [
    "df[\"Nome\"]= df[\"Nome\"].str.strip()\n",
    "df[\"Email\"]= df[\"Email\"].str.strip()\n",
    "df[\"Curso\"]= df[\"Curso\"].str.strip()\n",
    "\n",
    "df"
   ]
  },
  {
   "cell_type": "code",
   "execution_count": 5,
   "id": "c60265ad",
   "metadata": {
    "execution": {
     "iopub.execute_input": "2025-06-13T19:25:30.435969Z",
     "iopub.status.busy": "2025-06-13T19:25:30.435722Z",
     "iopub.status.idle": "2025-06-13T19:25:30.444420Z",
     "shell.execute_reply": "2025-06-13T19:25:30.443621Z"
    },
    "papermill": {
     "duration": 0.012814,
     "end_time": "2025-06-13T19:25:30.445723",
     "exception": false,
     "start_time": "2025-06-13T19:25:30.432909",
     "status": "completed"
    },
    "tags": []
   },
   "outputs": [
    {
     "data": {
      "text/html": [
       "<div>\n",
       "<style scoped>\n",
       "    .dataframe tbody tr th:only-of-type {\n",
       "        vertical-align: middle;\n",
       "    }\n",
       "\n",
       "    .dataframe tbody tr th {\n",
       "        vertical-align: top;\n",
       "    }\n",
       "\n",
       "    .dataframe thead th {\n",
       "        text-align: right;\n",
       "    }\n",
       "</style>\n",
       "<table border=\"1\" class=\"dataframe\">\n",
       "  <thead>\n",
       "    <tr style=\"text-align: right;\">\n",
       "      <th></th>\n",
       "      <th>Nome</th>\n",
       "      <th>Email</th>\n",
       "      <th>Curso</th>\n",
       "    </tr>\n",
       "  </thead>\n",
       "  <tbody>\n",
       "    <tr>\n",
       "      <th>0</th>\n",
       "      <td>Lucas Martins</td>\n",
       "      <td>lucas.m@exemplo.com</td>\n",
       "      <td>Eng. Mecânica</td>\n",
       "    </tr>\n",
       "    <tr>\n",
       "      <th>1</th>\n",
       "      <td>Bruna S. Lopes</td>\n",
       "      <td>brunal@exemplo.com</td>\n",
       "      <td>Design Gráfico</td>\n",
       "    </tr>\n",
       "    <tr>\n",
       "      <th>2</th>\n",
       "      <td>João Oliveira</td>\n",
       "      <td>joao.oliveira@exemplo.com</td>\n",
       "      <td>Letras</td>\n",
       "    </tr>\n",
       "    <tr>\n",
       "      <th>3</th>\n",
       "      <td>Carolina Almeida</td>\n",
       "      <td>carolina.almeida@exemplo.com</td>\n",
       "      <td>Eng. Elétrica</td>\n",
       "    </tr>\n",
       "  </tbody>\n",
       "</table>\n",
       "</div>"
      ],
      "text/plain": [
       "               Nome                         Email           Curso\n",
       "0     Lucas Martins           lucas.m@exemplo.com   Eng. Mecânica\n",
       "1    Bruna S. Lopes            brunal@exemplo.com  Design Gráfico\n",
       "2     João Oliveira     joao.oliveira@exemplo.com          Letras\n",
       "3  Carolina Almeida  carolina.almeida@exemplo.com   Eng. Elétrica"
      ]
     },
     "execution_count": 5,
     "metadata": {},
     "output_type": "execute_result"
    }
   ],
   "source": [
    "df[\"Curso\"] =df[\"Curso\"].str.replace('Engenharia','Eng.', case=False)\n",
    "df"
   ]
  }
 ],
 "metadata": {
  "kaggle": {
   "accelerator": "none",
   "dataSources": [
    {
     "datasetId": 7657527,
     "sourceId": 12158484,
     "sourceType": "datasetVersion"
    }
   ],
   "dockerImageVersionId": 31040,
   "isGpuEnabled": false,
   "isInternetEnabled": false,
   "language": "python",
   "sourceType": "notebook"
  },
  "kernelspec": {
   "display_name": "Python 3",
   "language": "python",
   "name": "python3"
  },
  "language_info": {
   "codemirror_mode": {
    "name": "ipython",
    "version": 3
   },
   "file_extension": ".py",
   "mimetype": "text/x-python",
   "name": "python",
   "nbconvert_exporter": "python",
   "pygments_lexer": "ipython3",
   "version": "3.11.11"
  },
  "papermill": {
   "default_parameters": {},
   "duration": 8.792315,
   "end_time": "2025-06-13T19:25:30.967931",
   "environment_variables": {},
   "exception": null,
   "input_path": "__notebook__.ipynb",
   "output_path": "__notebook__.ipynb",
   "parameters": {},
   "start_time": "2025-06-13T19:25:22.175616",
   "version": "2.6.0"
  }
 },
 "nbformat": 4,
 "nbformat_minor": 5
}
