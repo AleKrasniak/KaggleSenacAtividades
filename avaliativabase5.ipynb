{
 "cells": [
  {
   "cell_type": "code",
   "execution_count": 1,
   "id": "3277e47c",
   "metadata": {
    "_cell_guid": "b1076dfc-b9ad-4769-8c92-a6c4dae69d19",
    "_uuid": "8f2839f25d086af736a60e9eeb907d3b93b6e0e5",
    "execution": {
     "iopub.execute_input": "2025-06-13T22:12:17.442970Z",
     "iopub.status.busy": "2025-06-13T22:12:17.442014Z",
     "iopub.status.idle": "2025-06-13T22:12:19.596265Z",
     "shell.execute_reply": "2025-06-13T22:12:19.595220Z"
    },
    "papermill": {
     "duration": 2.159883,
     "end_time": "2025-06-13T22:12:19.598169",
     "exception": false,
     "start_time": "2025-06-13T22:12:17.438286",
     "status": "completed"
    },
    "tags": []
   },
   "outputs": [],
   "source": [
    "import pandas as pd \n",
    "import numpy as np"
   ]
  },
  {
   "cell_type": "code",
   "execution_count": 2,
   "id": "c335707f",
   "metadata": {
    "execution": {
     "iopub.execute_input": "2025-06-13T22:12:19.605019Z",
     "iopub.status.busy": "2025-06-13T22:12:19.603918Z",
     "iopub.status.idle": "2025-06-13T22:12:19.657085Z",
     "shell.execute_reply": "2025-06-13T22:12:19.655955Z"
    },
    "papermill": {
     "duration": 0.058815,
     "end_time": "2025-06-13T22:12:19.659445",
     "exception": false,
     "start_time": "2025-06-13T22:12:19.600630",
     "status": "completed"
    },
    "tags": []
   },
   "outputs": [
    {
     "data": {
      "text/html": [
       "<div>\n",
       "<style scoped>\n",
       "    .dataframe tbody tr th:only-of-type {\n",
       "        vertical-align: middle;\n",
       "    }\n",
       "\n",
       "    .dataframe tbody tr th {\n",
       "        vertical-align: top;\n",
       "    }\n",
       "\n",
       "    .dataframe thead th {\n",
       "        text-align: right;\n",
       "    }\n",
       "</style>\n",
       "<table border=\"1\" class=\"dataframe\">\n",
       "  <thead>\n",
       "    <tr style=\"text-align: right;\">\n",
       "      <th></th>\n",
       "      <th>cadastro</th>\n",
       "    </tr>\n",
       "  </thead>\n",
       "  <tbody>\n",
       "    <tr>\n",
       "      <th>0</th>\n",
       "      <td>Nome: Lucas Martins | Email: lucas.m@exemplo.c...</td>\n",
       "    </tr>\n",
       "    <tr>\n",
       "      <th>1</th>\n",
       "      <td>Curso: Design Gráfico | Nome: Bruna S. Lopes |...</td>\n",
       "    </tr>\n",
       "    <tr>\n",
       "      <th>2</th>\n",
       "      <td>Email: joao.oliveira@exemplo.com | Nome: João ...</td>\n",
       "    </tr>\n",
       "    <tr>\n",
       "      <th>3</th>\n",
       "      <td>Engenharia Elétrica - carolina.almeida@exemplo...</td>\n",
       "    </tr>\n",
       "  </tbody>\n",
       "</table>\n",
       "</div>"
      ],
      "text/plain": [
       "                                            cadastro\n",
       "0  Nome: Lucas Martins | Email: lucas.m@exemplo.c...\n",
       "1  Curso: Design Gráfico | Nome: Bruna S. Lopes |...\n",
       "2  Email: joao.oliveira@exemplo.com | Nome: João ...\n",
       "3  Engenharia Elétrica - carolina.almeida@exemplo..."
      ]
     },
     "execution_count": 2,
     "metadata": {},
     "output_type": "execute_result"
    }
   ],
   "source": [
    "df = pd.read_csv('/kaggle/input/alunosbase5/alunos_base_5.csv')\n",
    "df"
   ]
  },
  {
   "cell_type": "code",
   "execution_count": 3,
   "id": "b96b7351",
   "metadata": {
    "execution": {
     "iopub.execute_input": "2025-06-13T22:12:19.667109Z",
     "iopub.status.busy": "2025-06-13T22:12:19.666321Z",
     "iopub.status.idle": "2025-06-13T22:12:19.682560Z",
     "shell.execute_reply": "2025-06-13T22:12:19.681562Z"
    },
    "papermill": {
     "duration": 0.021491,
     "end_time": "2025-06-13T22:12:19.684314",
     "exception": false,
     "start_time": "2025-06-13T22:12:19.662823",
     "status": "completed"
    },
    "tags": []
   },
   "outputs": [
    {
     "data": {
      "text/html": [
       "<div>\n",
       "<style scoped>\n",
       "    .dataframe tbody tr th:only-of-type {\n",
       "        vertical-align: middle;\n",
       "    }\n",
       "\n",
       "    .dataframe tbody tr th {\n",
       "        vertical-align: top;\n",
       "    }\n",
       "\n",
       "    .dataframe thead th {\n",
       "        text-align: right;\n",
       "    }\n",
       "</style>\n",
       "<table border=\"1\" class=\"dataframe\">\n",
       "  <thead>\n",
       "    <tr style=\"text-align: right;\">\n",
       "      <th></th>\n",
       "      <th>Nome</th>\n",
       "      <th>Email</th>\n",
       "      <th>Curso</th>\n",
       "    </tr>\n",
       "  </thead>\n",
       "  <tbody>\n",
       "    <tr>\n",
       "      <th>0</th>\n",
       "      <td>Lucas Martins</td>\n",
       "      <td>lucas.m@exemplo.com</td>\n",
       "      <td>Eng. Mecânica</td>\n",
       "    </tr>\n",
       "    <tr>\n",
       "      <th>1</th>\n",
       "      <td>Bruna S. Lopes</td>\n",
       "      <td>brunal@exemplo.com</td>\n",
       "      <td>Design Gráfico</td>\n",
       "    </tr>\n",
       "    <tr>\n",
       "      <th>2</th>\n",
       "      <td>João Oliveira</td>\n",
       "      <td>joao.oliveira@exemplo.com</td>\n",
       "      <td>Letras</td>\n",
       "    </tr>\n",
       "    <tr>\n",
       "      <th>3</th>\n",
       "      <td>Carolina Almeida</td>\n",
       "      <td>carolina.almeida@exemplo.com</td>\n",
       "      <td>Engenharia Elétrica</td>\n",
       "    </tr>\n",
       "  </tbody>\n",
       "</table>\n",
       "</div>"
      ],
      "text/plain": [
       "               Nome                         Email                Curso\n",
       "0     Lucas Martins           lucas.m@exemplo.com        Eng. Mecânica\n",
       "1    Bruna S. Lopes            brunal@exemplo.com       Design Gráfico\n",
       "2     João Oliveira     joao.oliveira@exemplo.com               Letras\n",
       "3  Carolina Almeida  carolina.almeida@exemplo.com  Engenharia Elétrica"
      ]
     },
     "execution_count": 3,
     "metadata": {},
     "output_type": "execute_result"
    }
   ],
   "source": [
    "def transformar_palavras_pcoluna(linha):\n",
    "    if (\"-\" in linha) and (\": \" not in linha):\n",
    "        partes = [p.strip() for p in linha.split(\" - \")]\n",
    "        resultado = {}\n",
    "        if len(partes) == 3:\n",
    "            resultado[\"Curso\"] = partes[0]\n",
    "            resultado[\"Email\"] = partes[1]\n",
    "            resultado[\"Nome\"] = partes[2]\n",
    "        return resultado\n",
    "    else:\n",
    "        separar = linha.split(\" | \")\n",
    "        resultado = {}\n",
    "        for s in separar:\n",
    "            if \": \" in s:\n",
    "                chave, valor = s.split(\": \", 1)\n",
    "                resultado[chave.strip()] = valor.strip()\n",
    "        return resultado\n",
    "        \n",
    "df= pd.DataFrame(df[\"cadastro\"].apply(transformar_palavras_pcoluna).to_list())\n",
    "\n",
    "df"
   ]
  },
  {
   "cell_type": "code",
   "execution_count": 4,
   "id": "cdfca8f8",
   "metadata": {
    "execution": {
     "iopub.execute_input": "2025-06-13T22:12:19.691001Z",
     "iopub.status.busy": "2025-06-13T22:12:19.689963Z",
     "iopub.status.idle": "2025-06-13T22:12:19.704494Z",
     "shell.execute_reply": "2025-06-13T22:12:19.703504Z"
    },
    "papermill": {
     "duration": 0.019194,
     "end_time": "2025-06-13T22:12:19.705958",
     "exception": false,
     "start_time": "2025-06-13T22:12:19.686764",
     "status": "completed"
    },
    "tags": []
   },
   "outputs": [
    {
     "data": {
      "text/html": [
       "<div>\n",
       "<style scoped>\n",
       "    .dataframe tbody tr th:only-of-type {\n",
       "        vertical-align: middle;\n",
       "    }\n",
       "\n",
       "    .dataframe tbody tr th {\n",
       "        vertical-align: top;\n",
       "    }\n",
       "\n",
       "    .dataframe thead th {\n",
       "        text-align: right;\n",
       "    }\n",
       "</style>\n",
       "<table border=\"1\" class=\"dataframe\">\n",
       "  <thead>\n",
       "    <tr style=\"text-align: right;\">\n",
       "      <th></th>\n",
       "      <th>Nome</th>\n",
       "      <th>Email</th>\n",
       "      <th>Curso</th>\n",
       "    </tr>\n",
       "  </thead>\n",
       "  <tbody>\n",
       "    <tr>\n",
       "      <th>0</th>\n",
       "      <td>Lucas Martins</td>\n",
       "      <td>lucas.m@exemplo.com</td>\n",
       "      <td>Eng. Mecânica</td>\n",
       "    </tr>\n",
       "    <tr>\n",
       "      <th>1</th>\n",
       "      <td>Bruna S. Lopes</td>\n",
       "      <td>brunal@exemplo.com</td>\n",
       "      <td>Design Gráfico</td>\n",
       "    </tr>\n",
       "    <tr>\n",
       "      <th>2</th>\n",
       "      <td>João Oliveira</td>\n",
       "      <td>joao.oliveira@exemplo.com</td>\n",
       "      <td>Letras</td>\n",
       "    </tr>\n",
       "    <tr>\n",
       "      <th>3</th>\n",
       "      <td>Carolina Almeida</td>\n",
       "      <td>carolina.almeida@exemplo.com</td>\n",
       "      <td>Eng. Elétrica</td>\n",
       "    </tr>\n",
       "  </tbody>\n",
       "</table>\n",
       "</div>"
      ],
      "text/plain": [
       "               Nome                         Email           Curso\n",
       "0     Lucas Martins           lucas.m@exemplo.com   Eng. Mecânica\n",
       "1    Bruna S. Lopes            brunal@exemplo.com  Design Gráfico\n",
       "2     João Oliveira     joao.oliveira@exemplo.com          Letras\n",
       "3  Carolina Almeida  carolina.almeida@exemplo.com   Eng. Elétrica"
      ]
     },
     "execution_count": 4,
     "metadata": {},
     "output_type": "execute_result"
    }
   ],
   "source": [
    "df[\"Curso\"] =df[\"Curso\"].str.replace('Engenharia','Eng.', case=False)\n",
    "df"
   ]
  }
 ],
 "metadata": {
  "kaggle": {
   "accelerator": "none",
   "dataSources": [
    {
     "datasetId": 7657527,
     "sourceId": 12158484,
     "sourceType": "datasetVersion"
    }
   ],
   "dockerImageVersionId": 31040,
   "isGpuEnabled": false,
   "isInternetEnabled": false,
   "language": "python",
   "sourceType": "notebook"
  },
  "kernelspec": {
   "display_name": "Python 3",
   "language": "python",
   "name": "python3"
  },
  "language_info": {
   "codemirror_mode": {
    "name": "ipython",
    "version": 3
   },
   "file_extension": ".py",
   "mimetype": "text/x-python",
   "name": "python",
   "nbconvert_exporter": "python",
   "pygments_lexer": "ipython3",
   "version": "3.11.11"
  },
  "papermill": {
   "default_parameters": {},
   "duration": 8.254335,
   "end_time": "2025-06-13T22:12:20.328795",
   "environment_variables": {},
   "exception": null,
   "input_path": "__notebook__.ipynb",
   "output_path": "__notebook__.ipynb",
   "parameters": {},
   "start_time": "2025-06-13T22:12:12.074460",
   "version": "2.6.0"
  }
 },
 "nbformat": 4,
 "nbformat_minor": 5
}
