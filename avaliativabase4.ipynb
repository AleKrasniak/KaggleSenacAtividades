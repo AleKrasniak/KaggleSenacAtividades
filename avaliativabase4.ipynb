{
 "cells": [
  {
   "cell_type": "code",
   "execution_count": 1,
   "id": "1b34d651",
   "metadata": {
    "_cell_guid": "b1076dfc-b9ad-4769-8c92-a6c4dae69d19",
    "_uuid": "8f2839f25d086af736a60e9eeb907d3b93b6e0e5",
    "execution": {
     "iopub.execute_input": "2025-06-11T23:38:30.319333Z",
     "iopub.status.busy": "2025-06-11T23:38:30.319080Z",
     "iopub.status.idle": "2025-06-11T23:38:31.662803Z",
     "shell.execute_reply": "2025-06-11T23:38:31.662133Z"
    },
    "papermill": {
     "duration": 1.348091,
     "end_time": "2025-06-11T23:38:31.664008",
     "exception": false,
     "start_time": "2025-06-11T23:38:30.315917",
     "status": "completed"
    },
    "tags": []
   },
   "outputs": [],
   "source": [
    "import pandas as pd\n",
    "import re "
   ]
  },
  {
   "cell_type": "code",
   "execution_count": 2,
   "id": "cf8e011a",
   "metadata": {
    "execution": {
     "iopub.execute_input": "2025-06-11T23:38:31.668632Z",
     "iopub.status.busy": "2025-06-11T23:38:31.668278Z",
     "iopub.status.idle": "2025-06-11T23:38:31.700345Z",
     "shell.execute_reply": "2025-06-11T23:38:31.699631Z"
    },
    "papermill": {
     "duration": 0.035449,
     "end_time": "2025-06-11T23:38:31.701541",
     "exception": false,
     "start_time": "2025-06-11T23:38:31.666092",
     "status": "completed"
    },
    "tags": []
   },
   "outputs": [
    {
     "data": {
      "text/html": [
       "<div>\n",
       "<style scoped>\n",
       "    .dataframe tbody tr th:only-of-type {\n",
       "        vertical-align: middle;\n",
       "    }\n",
       "\n",
       "    .dataframe tbody tr th {\n",
       "        vertical-align: top;\n",
       "    }\n",
       "\n",
       "    .dataframe thead th {\n",
       "        text-align: right;\n",
       "    }\n",
       "</style>\n",
       "<table border=\"1\" class=\"dataframe\">\n",
       "  <thead>\n",
       "    <tr style=\"text-align: right;\">\n",
       "      <th></th>\n",
       "      <th>nome</th>\n",
       "      <th>telefone</th>\n",
       "      <th>matricula</th>\n",
       "    </tr>\n",
       "  </thead>\n",
       "  <tbody>\n",
       "    <tr>\n",
       "      <th>0</th>\n",
       "      <td>Rodrigo Dias</td>\n",
       "      <td>(41) 91234-5678</td>\n",
       "      <td>2023-01-001</td>\n",
       "    </tr>\n",
       "    <tr>\n",
       "      <th>1</th>\n",
       "      <td>Vanessa Ribeiro</td>\n",
       "      <td>41 9234-5678</td>\n",
       "      <td>202301002</td>\n",
       "    </tr>\n",
       "    <tr>\n",
       "      <th>2</th>\n",
       "      <td>camila souza</td>\n",
       "      <td>41912345678</td>\n",
       "      <td>2023.01.003</td>\n",
       "    </tr>\n",
       "    <tr>\n",
       "      <th>3</th>\n",
       "      <td>JOAO CUNHA</td>\n",
       "      <td>(41)91234 5678</td>\n",
       "      <td>2023_01_004</td>\n",
       "    </tr>\n",
       "  </tbody>\n",
       "</table>\n",
       "</div>"
      ],
      "text/plain": [
       "              nome          telefone    matricula\n",
       "0     Rodrigo Dias  (41) 91234-5678   2023-01-001\n",
       "1  Vanessa Ribeiro      41 9234-5678   202301002 \n",
       "2     camila souza       41912345678  2023.01.003\n",
       "3       JOAO CUNHA    (41)91234 5678  2023_01_004"
      ]
     },
     "execution_count": 2,
     "metadata": {},
     "output_type": "execute_result"
    }
   ],
   "source": [
    "df = pd.read_csv('/kaggle/input/alunos-base4/alunos_base_4.csv')\n",
    "df"
   ]
  },
  {
   "cell_type": "code",
   "execution_count": 3,
   "id": "36c9c075",
   "metadata": {
    "execution": {
     "iopub.execute_input": "2025-06-11T23:38:31.705947Z",
     "iopub.status.busy": "2025-06-11T23:38:31.705759Z",
     "iopub.status.idle": "2025-06-11T23:38:31.714169Z",
     "shell.execute_reply": "2025-06-11T23:38:31.713628Z"
    },
    "papermill": {
     "duration": 0.0116,
     "end_time": "2025-06-11T23:38:31.715162",
     "exception": false,
     "start_time": "2025-06-11T23:38:31.703562",
     "status": "completed"
    },
    "tags": []
   },
   "outputs": [
    {
     "data": {
      "text/html": [
       "<div>\n",
       "<style scoped>\n",
       "    .dataframe tbody tr th:only-of-type {\n",
       "        vertical-align: middle;\n",
       "    }\n",
       "\n",
       "    .dataframe tbody tr th {\n",
       "        vertical-align: top;\n",
       "    }\n",
       "\n",
       "    .dataframe thead th {\n",
       "        text-align: right;\n",
       "    }\n",
       "</style>\n",
       "<table border=\"1\" class=\"dataframe\">\n",
       "  <thead>\n",
       "    <tr style=\"text-align: right;\">\n",
       "      <th></th>\n",
       "      <th>nome</th>\n",
       "      <th>telefone</th>\n",
       "      <th>matricula</th>\n",
       "    </tr>\n",
       "  </thead>\n",
       "  <tbody>\n",
       "    <tr>\n",
       "      <th>0</th>\n",
       "      <td>Rodrigo Dias</td>\n",
       "      <td>(41) 91234-5678</td>\n",
       "      <td>2023-01-001</td>\n",
       "    </tr>\n",
       "    <tr>\n",
       "      <th>1</th>\n",
       "      <td>Vanessa Ribeiro</td>\n",
       "      <td>41 9234-5678</td>\n",
       "      <td>202301002</td>\n",
       "    </tr>\n",
       "    <tr>\n",
       "      <th>2</th>\n",
       "      <td>Camila Souza</td>\n",
       "      <td>41912345678</td>\n",
       "      <td>2023.01.003</td>\n",
       "    </tr>\n",
       "    <tr>\n",
       "      <th>3</th>\n",
       "      <td>Joao Cunha</td>\n",
       "      <td>(41)91234 5678</td>\n",
       "      <td>2023_01_004</td>\n",
       "    </tr>\n",
       "  </tbody>\n",
       "</table>\n",
       "</div>"
      ],
      "text/plain": [
       "              nome          telefone    matricula\n",
       "0     Rodrigo Dias  (41) 91234-5678   2023-01-001\n",
       "1  Vanessa Ribeiro      41 9234-5678   202301002 \n",
       "2     Camila Souza       41912345678  2023.01.003\n",
       "3       Joao Cunha    (41)91234 5678  2023_01_004"
      ]
     },
     "execution_count": 3,
     "metadata": {},
     "output_type": "execute_result"
    }
   ],
   "source": [
    "df[\"nome\"] = df[\"nome\"].str.title().str.strip()\n",
    "df"
   ]
  },
  {
   "cell_type": "code",
   "execution_count": 4,
   "id": "6aca7910",
   "metadata": {
    "execution": {
     "iopub.execute_input": "2025-06-11T23:38:31.719482Z",
     "iopub.status.busy": "2025-06-11T23:38:31.719290Z",
     "iopub.status.idle": "2025-06-11T23:38:31.725741Z",
     "shell.execute_reply": "2025-06-11T23:38:31.725082Z"
    },
    "papermill": {
     "duration": 0.009747,
     "end_time": "2025-06-11T23:38:31.726855",
     "exception": false,
     "start_time": "2025-06-11T23:38:31.717108",
     "status": "completed"
    },
    "tags": []
   },
   "outputs": [
    {
     "data": {
      "text/html": [
       "<div>\n",
       "<style scoped>\n",
       "    .dataframe tbody tr th:only-of-type {\n",
       "        vertical-align: middle;\n",
       "    }\n",
       "\n",
       "    .dataframe tbody tr th {\n",
       "        vertical-align: top;\n",
       "    }\n",
       "\n",
       "    .dataframe thead th {\n",
       "        text-align: right;\n",
       "    }\n",
       "</style>\n",
       "<table border=\"1\" class=\"dataframe\">\n",
       "  <thead>\n",
       "    <tr style=\"text-align: right;\">\n",
       "      <th></th>\n",
       "      <th>nome</th>\n",
       "      <th>telefone</th>\n",
       "      <th>matricula</th>\n",
       "    </tr>\n",
       "  </thead>\n",
       "  <tbody>\n",
       "    <tr>\n",
       "      <th>0</th>\n",
       "      <td>Rodrigo Dias</td>\n",
       "      <td>(41) 91234-5678</td>\n",
       "      <td>2023-01-001</td>\n",
       "    </tr>\n",
       "    <tr>\n",
       "      <th>1</th>\n",
       "      <td>Vanessa Ribeiro</td>\n",
       "      <td>41 9234-5678</td>\n",
       "      <td>202301002</td>\n",
       "    </tr>\n",
       "    <tr>\n",
       "      <th>2</th>\n",
       "      <td>Camila Souza</td>\n",
       "      <td>41912345678</td>\n",
       "      <td>2023.01.003</td>\n",
       "    </tr>\n",
       "    <tr>\n",
       "      <th>3</th>\n",
       "      <td>João Cunha</td>\n",
       "      <td>(41)91234 5678</td>\n",
       "      <td>2023_01_004</td>\n",
       "    </tr>\n",
       "  </tbody>\n",
       "</table>\n",
       "</div>"
      ],
      "text/plain": [
       "              nome          telefone    matricula\n",
       "0     Rodrigo Dias  (41) 91234-5678   2023-01-001\n",
       "1  Vanessa Ribeiro      41 9234-5678   202301002 \n",
       "2     Camila Souza       41912345678  2023.01.003\n",
       "3       João Cunha    (41)91234 5678  2023_01_004"
      ]
     },
     "execution_count": 4,
     "metadata": {},
     "output_type": "execute_result"
    }
   ],
   "source": [
    "df[\"nome\"] =df[\"nome\"].str.replace('Joao','João', case=False)\n",
    "df"
   ]
  },
  {
   "cell_type": "code",
   "execution_count": 5,
   "id": "9f51af5d",
   "metadata": {
    "execution": {
     "iopub.execute_input": "2025-06-11T23:38:31.732083Z",
     "iopub.status.busy": "2025-06-11T23:38:31.731894Z",
     "iopub.status.idle": "2025-06-11T23:38:31.738182Z",
     "shell.execute_reply": "2025-06-11T23:38:31.737598Z"
    },
    "papermill": {
     "duration": 0.009664,
     "end_time": "2025-06-11T23:38:31.739291",
     "exception": false,
     "start_time": "2025-06-11T23:38:31.729627",
     "status": "completed"
    },
    "tags": []
   },
   "outputs": [
    {
     "data": {
      "text/html": [
       "<div>\n",
       "<style scoped>\n",
       "    .dataframe tbody tr th:only-of-type {\n",
       "        vertical-align: middle;\n",
       "    }\n",
       "\n",
       "    .dataframe tbody tr th {\n",
       "        vertical-align: top;\n",
       "    }\n",
       "\n",
       "    .dataframe thead th {\n",
       "        text-align: right;\n",
       "    }\n",
       "</style>\n",
       "<table border=\"1\" class=\"dataframe\">\n",
       "  <thead>\n",
       "    <tr style=\"text-align: right;\">\n",
       "      <th></th>\n",
       "      <th>nome</th>\n",
       "      <th>telefone</th>\n",
       "      <th>matricula</th>\n",
       "    </tr>\n",
       "  </thead>\n",
       "  <tbody>\n",
       "    <tr>\n",
       "      <th>0</th>\n",
       "      <td>Rodrigo Dias</td>\n",
       "      <td>(41) 91234-5678</td>\n",
       "      <td>2023-01-001</td>\n",
       "    </tr>\n",
       "    <tr>\n",
       "      <th>1</th>\n",
       "      <td>Vanessa Ribeiro</td>\n",
       "      <td>41 9234-5678</td>\n",
       "      <td>202301002</td>\n",
       "    </tr>\n",
       "    <tr>\n",
       "      <th>2</th>\n",
       "      <td>Camila Souza</td>\n",
       "      <td>41912345678</td>\n",
       "      <td>2023.01.003</td>\n",
       "    </tr>\n",
       "    <tr>\n",
       "      <th>3</th>\n",
       "      <td>João Cunha</td>\n",
       "      <td>(41)91234 5678</td>\n",
       "      <td>2023_01_004</td>\n",
       "    </tr>\n",
       "  </tbody>\n",
       "</table>\n",
       "</div>"
      ],
      "text/plain": [
       "              nome         telefone    matricula\n",
       "0     Rodrigo Dias  (41) 91234-5678  2023-01-001\n",
       "1  Vanessa Ribeiro     41 9234-5678   202301002 \n",
       "2     Camila Souza      41912345678  2023.01.003\n",
       "3       João Cunha   (41)91234 5678  2023_01_004"
      ]
     },
     "execution_count": 5,
     "metadata": {},
     "output_type": "execute_result"
    }
   ],
   "source": [
    "df[\"telefone\"] = df[\"telefone\"].str.strip()\n",
    "df\n"
   ]
  },
  {
   "cell_type": "code",
   "execution_count": 6,
   "id": "9737a8a0",
   "metadata": {
    "execution": {
     "iopub.execute_input": "2025-06-11T23:38:31.744218Z",
     "iopub.status.busy": "2025-06-11T23:38:31.744019Z",
     "iopub.status.idle": "2025-06-11T23:38:31.751712Z",
     "shell.execute_reply": "2025-06-11T23:38:31.751090Z"
    },
    "papermill": {
     "duration": 0.011182,
     "end_time": "2025-06-11T23:38:31.752749",
     "exception": false,
     "start_time": "2025-06-11T23:38:31.741567",
     "status": "completed"
    },
    "tags": []
   },
   "outputs": [
    {
     "data": {
      "text/html": [
       "<div>\n",
       "<style scoped>\n",
       "    .dataframe tbody tr th:only-of-type {\n",
       "        vertical-align: middle;\n",
       "    }\n",
       "\n",
       "    .dataframe tbody tr th {\n",
       "        vertical-align: top;\n",
       "    }\n",
       "\n",
       "    .dataframe thead th {\n",
       "        text-align: right;\n",
       "    }\n",
       "</style>\n",
       "<table border=\"1\" class=\"dataframe\">\n",
       "  <thead>\n",
       "    <tr style=\"text-align: right;\">\n",
       "      <th></th>\n",
       "      <th>nome</th>\n",
       "      <th>telefone</th>\n",
       "      <th>matricula</th>\n",
       "    </tr>\n",
       "  </thead>\n",
       "  <tbody>\n",
       "    <tr>\n",
       "      <th>0</th>\n",
       "      <td>Rodrigo Dias</td>\n",
       "      <td>(41) 9 1234-5678</td>\n",
       "      <td>2023-01-001</td>\n",
       "    </tr>\n",
       "    <tr>\n",
       "      <th>1</th>\n",
       "      <td>Vanessa Ribeiro</td>\n",
       "      <td>(41) 9234-5678</td>\n",
       "      <td>202301002</td>\n",
       "    </tr>\n",
       "    <tr>\n",
       "      <th>2</th>\n",
       "      <td>Camila Souza</td>\n",
       "      <td>(41) 9 1234-5678</td>\n",
       "      <td>2023.01.003</td>\n",
       "    </tr>\n",
       "    <tr>\n",
       "      <th>3</th>\n",
       "      <td>João Cunha</td>\n",
       "      <td>(41) 9 1234-5678</td>\n",
       "      <td>2023_01_004</td>\n",
       "    </tr>\n",
       "  </tbody>\n",
       "</table>\n",
       "</div>"
      ],
      "text/plain": [
       "              nome          telefone    matricula\n",
       "0     Rodrigo Dias  (41) 9 1234-5678  2023-01-001\n",
       "1  Vanessa Ribeiro    (41) 9234-5678   202301002 \n",
       "2     Camila Souza  (41) 9 1234-5678  2023.01.003\n",
       "3       João Cunha  (41) 9 1234-5678  2023_01_004"
      ]
     },
     "execution_count": 6,
     "metadata": {},
     "output_type": "execute_result"
    }
   ],
   "source": [
    "def arrumarnumero(x):\n",
    "    x = re.sub(r'\\D', '', x)\n",
    "    if len(x) ==11:\n",
    "        return f'({x[:2]}) {x[2]} {x[3:7]}-{x[7:]}' \n",
    "    else:\n",
    "        return f'({x[:2]}) {x[2:6]}-{x[6:]}'\n",
    "\n",
    "df [\"telefone\"]= df[\"telefone\"].apply(arrumarnumero)\n",
    "df\n"
   ]
  },
  {
   "cell_type": "code",
   "execution_count": 7,
   "id": "0f13b15e",
   "metadata": {
    "execution": {
     "iopub.execute_input": "2025-06-11T23:38:31.757933Z",
     "iopub.status.busy": "2025-06-11T23:38:31.757686Z",
     "iopub.status.idle": "2025-06-11T23:38:31.764737Z",
     "shell.execute_reply": "2025-06-11T23:38:31.764109Z"
    },
    "papermill": {
     "duration": 0.010831,
     "end_time": "2025-06-11T23:38:31.765871",
     "exception": false,
     "start_time": "2025-06-11T23:38:31.755040",
     "status": "completed"
    },
    "tags": []
   },
   "outputs": [
    {
     "data": {
      "text/html": [
       "<div>\n",
       "<style scoped>\n",
       "    .dataframe tbody tr th:only-of-type {\n",
       "        vertical-align: middle;\n",
       "    }\n",
       "\n",
       "    .dataframe tbody tr th {\n",
       "        vertical-align: top;\n",
       "    }\n",
       "\n",
       "    .dataframe thead th {\n",
       "        text-align: right;\n",
       "    }\n",
       "</style>\n",
       "<table border=\"1\" class=\"dataframe\">\n",
       "  <thead>\n",
       "    <tr style=\"text-align: right;\">\n",
       "      <th></th>\n",
       "      <th>nome</th>\n",
       "      <th>telefone</th>\n",
       "      <th>matricula</th>\n",
       "    </tr>\n",
       "  </thead>\n",
       "  <tbody>\n",
       "    <tr>\n",
       "      <th>0</th>\n",
       "      <td>Rodrigo Dias</td>\n",
       "      <td>(41) 9 1234-5678</td>\n",
       "      <td>2023/1/01</td>\n",
       "    </tr>\n",
       "    <tr>\n",
       "      <th>1</th>\n",
       "      <td>Vanessa Ribeiro</td>\n",
       "      <td>(41) 9234-5678</td>\n",
       "      <td>2023/1/02</td>\n",
       "    </tr>\n",
       "    <tr>\n",
       "      <th>2</th>\n",
       "      <td>Camila Souza</td>\n",
       "      <td>(41) 9 1234-5678</td>\n",
       "      <td>2023/1/03</td>\n",
       "    </tr>\n",
       "    <tr>\n",
       "      <th>3</th>\n",
       "      <td>João Cunha</td>\n",
       "      <td>(41) 9 1234-5678</td>\n",
       "      <td>2023/1/04</td>\n",
       "    </tr>\n",
       "  </tbody>\n",
       "</table>\n",
       "</div>"
      ],
      "text/plain": [
       "              nome          telefone  matricula\n",
       "0     Rodrigo Dias  (41) 9 1234-5678  2023/1/01\n",
       "1  Vanessa Ribeiro    (41) 9234-5678  2023/1/02\n",
       "2     Camila Souza  (41) 9 1234-5678  2023/1/03\n",
       "3       João Cunha  (41) 9 1234-5678  2023/1/04"
      ]
     },
     "execution_count": 7,
     "metadata": {},
     "output_type": "execute_result"
    }
   ],
   "source": [
    "def arrumarmatricula(x):\n",
    "    x = re.sub(r'\\D', '', x)\n",
    "    return f'{x[:4]}/{x[5:6]}/{x[7:9]}' \n",
    "\n",
    "df [\"matricula\"]= df[\"matricula\"].apply(arrumarmatricula)\n",
    "df"
   ]
  },
  {
   "cell_type": "code",
   "execution_count": 8,
   "id": "f8c55048",
   "metadata": {
    "execution": {
     "iopub.execute_input": "2025-06-11T23:38:31.771297Z",
     "iopub.status.busy": "2025-06-11T23:38:31.771093Z",
     "iopub.status.idle": "2025-06-11T23:38:31.781345Z",
     "shell.execute_reply": "2025-06-11T23:38:31.780740Z"
    },
    "papermill": {
     "duration": 0.014336,
     "end_time": "2025-06-11T23:38:31.782665",
     "exception": false,
     "start_time": "2025-06-11T23:38:31.768329",
     "status": "completed"
    },
    "tags": []
   },
   "outputs": [
    {
     "data": {
      "text/html": [
       "<div>\n",
       "<style scoped>\n",
       "    .dataframe tbody tr th:only-of-type {\n",
       "        vertical-align: middle;\n",
       "    }\n",
       "\n",
       "    .dataframe tbody tr th {\n",
       "        vertical-align: top;\n",
       "    }\n",
       "\n",
       "    .dataframe thead th {\n",
       "        text-align: right;\n",
       "    }\n",
       "</style>\n",
       "<table border=\"1\" class=\"dataframe\">\n",
       "  <thead>\n",
       "    <tr style=\"text-align: right;\">\n",
       "      <th></th>\n",
       "      <th>nome</th>\n",
       "      <th>telefone</th>\n",
       "      <th>matricula</th>\n",
       "    </tr>\n",
       "  </thead>\n",
       "  <tbody>\n",
       "    <tr>\n",
       "      <th>0</th>\n",
       "      <td>Rodrigo Dias</td>\n",
       "      <td>(41) 9 1234-5678</td>\n",
       "      <td>01/01/23</td>\n",
       "    </tr>\n",
       "    <tr>\n",
       "      <th>1</th>\n",
       "      <td>Vanessa Ribeiro</td>\n",
       "      <td>(41) 9234-5678</td>\n",
       "      <td>02/01/23</td>\n",
       "    </tr>\n",
       "    <tr>\n",
       "      <th>2</th>\n",
       "      <td>Camila Souza</td>\n",
       "      <td>(41) 9 1234-5678</td>\n",
       "      <td>03/01/23</td>\n",
       "    </tr>\n",
       "    <tr>\n",
       "      <th>3</th>\n",
       "      <td>João Cunha</td>\n",
       "      <td>(41) 9 1234-5678</td>\n",
       "      <td>04/01/23</td>\n",
       "    </tr>\n",
       "  </tbody>\n",
       "</table>\n",
       "</div>"
      ],
      "text/plain": [
       "              nome          telefone matricula\n",
       "0     Rodrigo Dias  (41) 9 1234-5678  01/01/23\n",
       "1  Vanessa Ribeiro    (41) 9234-5678  02/01/23\n",
       "2     Camila Souza  (41) 9 1234-5678  03/01/23\n",
       "3       João Cunha  (41) 9 1234-5678  04/01/23"
      ]
     },
     "execution_count": 8,
     "metadata": {},
     "output_type": "execute_result"
    }
   ],
   "source": [
    "df[\"matricula\"] = pd.to_datetime(df[\"matricula\"], errors=\"coerce\")\n",
    "df [\"matricula\"] = df[\"matricula\"].dt.strftime('%d/%m/%y')     \n",
    "df"
   ]
  }
 ],
 "metadata": {
  "kaggle": {
   "accelerator": "none",
   "dataSources": [
    {
     "datasetId": 7589537,
     "sourceId": 12058468,
     "sourceType": "datasetVersion"
    }
   ],
   "dockerImageVersionId": 31040,
   "isGpuEnabled": false,
   "isInternetEnabled": false,
   "language": "python",
   "sourceType": "notebook"
  },
  "kernelspec": {
   "display_name": "Python 3",
   "language": "python",
   "name": "python3"
  },
  "language_info": {
   "codemirror_mode": {
    "name": "ipython",
    "version": 3
   },
   "file_extension": ".py",
   "mimetype": "text/x-python",
   "name": "python",
   "nbconvert_exporter": "python",
   "pygments_lexer": "ipython3",
   "version": "3.11.11"
  },
  "papermill": {
   "default_parameters": {},
   "duration": 5.456555,
   "end_time": "2025-06-11T23:38:32.201416",
   "environment_variables": {},
   "exception": null,
   "input_path": "__notebook__.ipynb",
   "output_path": "__notebook__.ipynb",
   "parameters": {},
   "start_time": "2025-06-11T23:38:26.744861",
   "version": "2.6.0"
  }
 },
 "nbformat": 4,
 "nbformat_minor": 5
}
