{
 "cells": [
  {
   "cell_type": "code",
   "execution_count": null,
   "id": "25005866",
   "metadata": {
    "execution": {
     "iopub.execute_input": "2025-06-03T13:32:30.941040Z",
     "iopub.status.busy": "2025-06-03T13:32:30.940683Z",
     "iopub.status.idle": "2025-06-03T13:32:30.959842Z",
     "shell.execute_reply": "2025-06-03T13:32:30.958344Z",
     "shell.execute_reply.started": "2025-06-03T13:32:30.941015Z"
    },
    "papermill": {
     "duration": 0.005215,
     "end_time": "2025-06-03T13:36:09.465532",
     "exception": false,
     "start_time": "2025-06-03T13:36:09.460317",
     "status": "completed"
    },
    "tags": []
   },
   "outputs": [],
   "source": []
  },
  {
   "cell_type": "code",
   "execution_count": 1,
   "id": "23c9981d",
   "metadata": {
    "execution": {
     "iopub.execute_input": "2025-06-03T13:36:09.480851Z",
     "iopub.status.busy": "2025-06-03T13:36:09.480416Z",
     "iopub.status.idle": "2025-06-03T13:36:09.492290Z",
     "shell.execute_reply": "2025-06-03T13:36:09.490931Z"
    },
    "papermill": {
     "duration": 0.021615,
     "end_time": "2025-06-03T13:36:09.494038",
     "exception": false,
     "start_time": "2025-06-03T13:36:09.472423",
     "status": "completed"
    },
    "tags": []
   },
   "outputs": [
    {
     "name": "stdout",
     "output_type": "stream",
     "text": [
      "['__notebook__.ipynb']\n"
     ]
    }
   ],
   "source": [
    "import os\n",
    "\n",
    "print(os.listdir(\"/kaggle/working\"))\n"
   ]
  },
  {
   "cell_type": "code",
   "execution_count": 2,
   "id": "2ac7f786",
   "metadata": {
    "_cell_guid": "b1076dfc-b9ad-4769-8c92-a6c4dae69d19",
    "_uuid": "8f2839f25d086af736a60e9eeb907d3b93b6e0e5",
    "execution": {
     "iopub.execute_input": "2025-06-03T13:36:09.503521Z",
     "iopub.status.busy": "2025-06-03T13:36:09.503235Z",
     "iopub.status.idle": "2025-06-03T13:36:12.154861Z",
     "shell.execute_reply": "2025-06-03T13:36:12.153869Z"
    },
    "papermill": {
     "duration": 2.658759,
     "end_time": "2025-06-03T13:36:12.156854",
     "exception": false,
     "start_time": "2025-06-03T13:36:09.498095",
     "status": "completed"
    },
    "tags": []
   },
   "outputs": [],
   "source": [
    "import pandas as pd"
   ]
  },
  {
   "cell_type": "code",
   "execution_count": 3,
   "id": "49d69e64",
   "metadata": {
    "execution": {
     "iopub.execute_input": "2025-06-03T13:36:12.166833Z",
     "iopub.status.busy": "2025-06-03T13:36:12.166368Z",
     "iopub.status.idle": "2025-06-03T13:36:12.201641Z",
     "shell.execute_reply": "2025-06-03T13:36:12.200587Z"
    },
    "papermill": {
     "duration": 0.042152,
     "end_time": "2025-06-03T13:36:12.203501",
     "exception": false,
     "start_time": "2025-06-03T13:36:12.161349",
     "status": "completed"
    },
    "tags": []
   },
   "outputs": [],
   "source": [
    "df = pd.read_csv('/kaggle/input/alunos-base1/alunos_base_1.csv')"
   ]
  },
  {
   "cell_type": "code",
   "execution_count": 4,
   "id": "682c629a",
   "metadata": {
    "execution": {
     "iopub.execute_input": "2025-06-03T13:36:12.212948Z",
     "iopub.status.busy": "2025-06-03T13:36:12.212555Z",
     "iopub.status.idle": "2025-06-03T13:36:12.243050Z",
     "shell.execute_reply": "2025-06-03T13:36:12.241851Z"
    },
    "papermill": {
     "duration": 0.037602,
     "end_time": "2025-06-03T13:36:12.245115",
     "exception": false,
     "start_time": "2025-06-03T13:36:12.207513",
     "status": "completed"
    },
    "tags": []
   },
   "outputs": [
    {
     "data": {
      "text/html": [
       "<div>\n",
       "<style scoped>\n",
       "    .dataframe tbody tr th:only-of-type {\n",
       "        vertical-align: middle;\n",
       "    }\n",
       "\n",
       "    .dataframe tbody tr th {\n",
       "        vertical-align: top;\n",
       "    }\n",
       "\n",
       "    .dataframe thead th {\n",
       "        text-align: right;\n",
       "    }\n",
       "</style>\n",
       "<table border=\"1\" class=\"dataframe\">\n",
       "  <thead>\n",
       "    <tr style=\"text-align: right;\">\n",
       "      <th></th>\n",
       "      <th>nome</th>\n",
       "      <th>email</th>\n",
       "    </tr>\n",
       "  </thead>\n",
       "  <tbody>\n",
       "    <tr>\n",
       "      <th>0</th>\n",
       "      <td>ana silva</td>\n",
       "      <td>ANA.SILVA@EXEMPLO.COM</td>\n",
       "    </tr>\n",
       "    <tr>\n",
       "      <th>1</th>\n",
       "      <td>joão Souza</td>\n",
       "      <td>joao.souza@exemplo.com</td>\n",
       "    </tr>\n",
       "    <tr>\n",
       "      <th>2</th>\n",
       "      <td>MARIA oliveira</td>\n",
       "      <td>maria.oliveira@exemplo.com</td>\n",
       "    </tr>\n",
       "    <tr>\n",
       "      <th>3</th>\n",
       "      <td>Carlos pereira</td>\n",
       "      <td>CARLOS.PEREIRA@EXEMPLO.com</td>\n",
       "    </tr>\n",
       "  </tbody>\n",
       "</table>\n",
       "</div>"
      ],
      "text/plain": [
       "              nome                        email\n",
       "0       ana silva         ANA.SILVA@EXEMPLO.COM\n",
       "1       joão Souza      joao.souza@exemplo.com \n",
       "2   MARIA oliveira   maria.oliveira@exemplo.com\n",
       "3  Carlos pereira    CARLOS.PEREIRA@EXEMPLO.com"
      ]
     },
     "execution_count": 4,
     "metadata": {},
     "output_type": "execute_result"
    }
   ],
   "source": [
    "df"
   ]
  },
  {
   "cell_type": "markdown",
   "id": "bd0aa7c4",
   "metadata": {
    "papermill": {
     "duration": 0.003792,
     "end_time": "2025-06-03T13:36:12.253306",
     "exception": false,
     "start_time": "2025-06-03T13:36:12.249514",
     "status": "completed"
    },
    "tags": []
   },
   "source": [
    "Nomes em CamelCase"
   ]
  },
  {
   "cell_type": "code",
   "execution_count": 5,
   "id": "22c0b554",
   "metadata": {
    "execution": {
     "iopub.execute_input": "2025-06-03T13:36:12.264380Z",
     "iopub.status.busy": "2025-06-03T13:36:12.263613Z",
     "iopub.status.idle": "2025-06-03T13:36:12.274180Z",
     "shell.execute_reply": "2025-06-03T13:36:12.273232Z"
    },
    "papermill": {
     "duration": 0.017927,
     "end_time": "2025-06-03T13:36:12.276054",
     "exception": false,
     "start_time": "2025-06-03T13:36:12.258127",
     "status": "completed"
    },
    "tags": []
   },
   "outputs": [],
   "source": [
    "df[\"nome\"] = df[\"nome\"].str.title()"
   ]
  },
  {
   "cell_type": "code",
   "execution_count": 6,
   "id": "075d145f",
   "metadata": {
    "execution": {
     "iopub.execute_input": "2025-06-03T13:36:12.285605Z",
     "iopub.status.busy": "2025-06-03T13:36:12.285273Z",
     "iopub.status.idle": "2025-06-03T13:36:12.294767Z",
     "shell.execute_reply": "2025-06-03T13:36:12.293833Z"
    },
    "papermill": {
     "duration": 0.016477,
     "end_time": "2025-06-03T13:36:12.296646",
     "exception": false,
     "start_time": "2025-06-03T13:36:12.280169",
     "status": "completed"
    },
    "tags": []
   },
   "outputs": [
    {
     "data": {
      "text/html": [
       "<div>\n",
       "<style scoped>\n",
       "    .dataframe tbody tr th:only-of-type {\n",
       "        vertical-align: middle;\n",
       "    }\n",
       "\n",
       "    .dataframe tbody tr th {\n",
       "        vertical-align: top;\n",
       "    }\n",
       "\n",
       "    .dataframe thead th {\n",
       "        text-align: right;\n",
       "    }\n",
       "</style>\n",
       "<table border=\"1\" class=\"dataframe\">\n",
       "  <thead>\n",
       "    <tr style=\"text-align: right;\">\n",
       "      <th></th>\n",
       "      <th>nome</th>\n",
       "      <th>email</th>\n",
       "    </tr>\n",
       "  </thead>\n",
       "  <tbody>\n",
       "    <tr>\n",
       "      <th>0</th>\n",
       "      <td>Ana Silva</td>\n",
       "      <td>ANA.SILVA@EXEMPLO.COM</td>\n",
       "    </tr>\n",
       "    <tr>\n",
       "      <th>1</th>\n",
       "      <td>João Souza</td>\n",
       "      <td>joao.souza@exemplo.com</td>\n",
       "    </tr>\n",
       "    <tr>\n",
       "      <th>2</th>\n",
       "      <td>Maria Oliveira</td>\n",
       "      <td>maria.oliveira@exemplo.com</td>\n",
       "    </tr>\n",
       "    <tr>\n",
       "      <th>3</th>\n",
       "      <td>Carlos Pereira</td>\n",
       "      <td>CARLOS.PEREIRA@EXEMPLO.com</td>\n",
       "    </tr>\n",
       "  </tbody>\n",
       "</table>\n",
       "</div>"
      ],
      "text/plain": [
       "              nome                        email\n",
       "0       Ana Silva         ANA.SILVA@EXEMPLO.COM\n",
       "1       João Souza      joao.souza@exemplo.com \n",
       "2   Maria Oliveira   maria.oliveira@exemplo.com\n",
       "3  Carlos Pereira    CARLOS.PEREIRA@EXEMPLO.com"
      ]
     },
     "execution_count": 6,
     "metadata": {},
     "output_type": "execute_result"
    }
   ],
   "source": [
    "df"
   ]
  },
  {
   "cell_type": "markdown",
   "id": "4f58b669",
   "metadata": {
    "papermill": {
     "duration": 0.003643,
     "end_time": "2025-06-03T13:36:12.304935",
     "exception": false,
     "start_time": "2025-06-03T13:36:12.301292",
     "status": "completed"
    },
    "tags": []
   },
   "source": [
    "Email em minusculo"
   ]
  },
  {
   "cell_type": "code",
   "execution_count": 7,
   "id": "846d33b0",
   "metadata": {
    "execution": {
     "iopub.execute_input": "2025-06-03T13:36:12.314151Z",
     "iopub.status.busy": "2025-06-03T13:36:12.313831Z",
     "iopub.status.idle": "2025-06-03T13:36:12.320225Z",
     "shell.execute_reply": "2025-06-03T13:36:12.319130Z"
    },
    "papermill": {
     "duration": 0.013364,
     "end_time": "2025-06-03T13:36:12.322214",
     "exception": false,
     "start_time": "2025-06-03T13:36:12.308850",
     "status": "completed"
    },
    "tags": []
   },
   "outputs": [],
   "source": [
    "df[\"email\"] = df[\"email\"].str.lower()"
   ]
  },
  {
   "cell_type": "code",
   "execution_count": 8,
   "id": "8bdbc142",
   "metadata": {
    "execution": {
     "iopub.execute_input": "2025-06-03T13:36:12.331732Z",
     "iopub.status.busy": "2025-06-03T13:36:12.331400Z",
     "iopub.status.idle": "2025-06-03T13:36:12.339801Z",
     "shell.execute_reply": "2025-06-03T13:36:12.338998Z"
    },
    "papermill": {
     "duration": 0.01494,
     "end_time": "2025-06-03T13:36:12.341388",
     "exception": false,
     "start_time": "2025-06-03T13:36:12.326448",
     "status": "completed"
    },
    "tags": []
   },
   "outputs": [
    {
     "data": {
      "text/html": [
       "<div>\n",
       "<style scoped>\n",
       "    .dataframe tbody tr th:only-of-type {\n",
       "        vertical-align: middle;\n",
       "    }\n",
       "\n",
       "    .dataframe tbody tr th {\n",
       "        vertical-align: top;\n",
       "    }\n",
       "\n",
       "    .dataframe thead th {\n",
       "        text-align: right;\n",
       "    }\n",
       "</style>\n",
       "<table border=\"1\" class=\"dataframe\">\n",
       "  <thead>\n",
       "    <tr style=\"text-align: right;\">\n",
       "      <th></th>\n",
       "      <th>nome</th>\n",
       "      <th>email</th>\n",
       "    </tr>\n",
       "  </thead>\n",
       "  <tbody>\n",
       "    <tr>\n",
       "      <th>0</th>\n",
       "      <td>Ana Silva</td>\n",
       "      <td>ana.silva@exemplo.com</td>\n",
       "    </tr>\n",
       "    <tr>\n",
       "      <th>1</th>\n",
       "      <td>João Souza</td>\n",
       "      <td>joao.souza@exemplo.com</td>\n",
       "    </tr>\n",
       "    <tr>\n",
       "      <th>2</th>\n",
       "      <td>Maria Oliveira</td>\n",
       "      <td>maria.oliveira@exemplo.com</td>\n",
       "    </tr>\n",
       "    <tr>\n",
       "      <th>3</th>\n",
       "      <td>Carlos Pereira</td>\n",
       "      <td>carlos.pereira@exemplo.com</td>\n",
       "    </tr>\n",
       "  </tbody>\n",
       "</table>\n",
       "</div>"
      ],
      "text/plain": [
       "              nome                        email\n",
       "0       Ana Silva         ana.silva@exemplo.com\n",
       "1       João Souza      joao.souza@exemplo.com \n",
       "2   Maria Oliveira   maria.oliveira@exemplo.com\n",
       "3  Carlos Pereira    carlos.pereira@exemplo.com"
      ]
     },
     "execution_count": 8,
     "metadata": {},
     "output_type": "execute_result"
    }
   ],
   "source": [
    "df"
   ]
  },
  {
   "cell_type": "markdown",
   "id": "b5317601",
   "metadata": {
    "papermill": {
     "duration": 0.004044,
     "end_time": "2025-06-03T13:36:12.350057",
     "exception": false,
     "start_time": "2025-06-03T13:36:12.346013",
     "status": "completed"
    },
    "tags": []
   },
   "source": [
    "Verificar espaços vazios "
   ]
  },
  {
   "cell_type": "code",
   "execution_count": 9,
   "id": "7d860088",
   "metadata": {
    "execution": {
     "iopub.execute_input": "2025-06-03T13:36:12.359638Z",
     "iopub.status.busy": "2025-06-03T13:36:12.359312Z",
     "iopub.status.idle": "2025-06-03T13:36:12.366130Z",
     "shell.execute_reply": "2025-06-03T13:36:12.364807Z"
    },
    "papermill": {
     "duration": 0.013866,
     "end_time": "2025-06-03T13:36:12.368052",
     "exception": false,
     "start_time": "2025-06-03T13:36:12.354186",
     "status": "completed"
    },
    "tags": []
   },
   "outputs": [],
   "source": [
    "df[\"VerificarTamanho\"] = df['nome'].str.len()"
   ]
  },
  {
   "cell_type": "code",
   "execution_count": 10,
   "id": "d119aba9",
   "metadata": {
    "execution": {
     "iopub.execute_input": "2025-06-03T13:36:12.378723Z",
     "iopub.status.busy": "2025-06-03T13:36:12.378404Z",
     "iopub.status.idle": "2025-06-03T13:36:12.388217Z",
     "shell.execute_reply": "2025-06-03T13:36:12.387182Z"
    },
    "papermill": {
     "duration": 0.016988,
     "end_time": "2025-06-03T13:36:12.390092",
     "exception": false,
     "start_time": "2025-06-03T13:36:12.373104",
     "status": "completed"
    },
    "tags": []
   },
   "outputs": [
    {
     "data": {
      "text/html": [
       "<div>\n",
       "<style scoped>\n",
       "    .dataframe tbody tr th:only-of-type {\n",
       "        vertical-align: middle;\n",
       "    }\n",
       "\n",
       "    .dataframe tbody tr th {\n",
       "        vertical-align: top;\n",
       "    }\n",
       "\n",
       "    .dataframe thead th {\n",
       "        text-align: right;\n",
       "    }\n",
       "</style>\n",
       "<table border=\"1\" class=\"dataframe\">\n",
       "  <thead>\n",
       "    <tr style=\"text-align: right;\">\n",
       "      <th></th>\n",
       "      <th>nome</th>\n",
       "      <th>email</th>\n",
       "      <th>VerificarTamanho</th>\n",
       "    </tr>\n",
       "  </thead>\n",
       "  <tbody>\n",
       "    <tr>\n",
       "      <th>0</th>\n",
       "      <td>Ana Silva</td>\n",
       "      <td>ana.silva@exemplo.com</td>\n",
       "      <td>12</td>\n",
       "    </tr>\n",
       "    <tr>\n",
       "      <th>1</th>\n",
       "      <td>João Souza</td>\n",
       "      <td>joao.souza@exemplo.com</td>\n",
       "      <td>10</td>\n",
       "    </tr>\n",
       "    <tr>\n",
       "      <th>2</th>\n",
       "      <td>Maria Oliveira</td>\n",
       "      <td>maria.oliveira@exemplo.com</td>\n",
       "      <td>15</td>\n",
       "    </tr>\n",
       "    <tr>\n",
       "      <th>3</th>\n",
       "      <td>Carlos Pereira</td>\n",
       "      <td>carlos.pereira@exemplo.com</td>\n",
       "      <td>15</td>\n",
       "    </tr>\n",
       "  </tbody>\n",
       "</table>\n",
       "</div>"
      ],
      "text/plain": [
       "              nome                        email  VerificarTamanho\n",
       "0       Ana Silva         ana.silva@exemplo.com                12\n",
       "1       João Souza      joao.souza@exemplo.com                 10\n",
       "2   Maria Oliveira   maria.oliveira@exemplo.com                15\n",
       "3  Carlos Pereira    carlos.pereira@exemplo.com                15"
      ]
     },
     "execution_count": 10,
     "metadata": {},
     "output_type": "execute_result"
    }
   ],
   "source": [
    "df"
   ]
  },
  {
   "cell_type": "markdown",
   "id": "3c246ede",
   "metadata": {
    "papermill": {
     "duration": 0.004896,
     "end_time": "2025-06-03T13:36:12.400102",
     "exception": false,
     "start_time": "2025-06-03T13:36:12.395206",
     "status": "completed"
    },
    "tags": []
   },
   "source": [
    "Tirando espaços se tiver"
   ]
  },
  {
   "cell_type": "code",
   "execution_count": 11,
   "id": "18314fdc",
   "metadata": {
    "execution": {
     "iopub.execute_input": "2025-06-03T13:36:12.410385Z",
     "iopub.status.busy": "2025-06-03T13:36:12.410067Z",
     "iopub.status.idle": "2025-06-03T13:36:12.415299Z",
     "shell.execute_reply": "2025-06-03T13:36:12.414316Z"
    },
    "papermill": {
     "duration": 0.012091,
     "end_time": "2025-06-03T13:36:12.416890",
     "exception": false,
     "start_time": "2025-06-03T13:36:12.404799",
     "status": "completed"
    },
    "tags": []
   },
   "outputs": [],
   "source": [
    "df[\"nome\"] = df [\"nome\"].str.strip()"
   ]
  },
  {
   "cell_type": "code",
   "execution_count": 12,
   "id": "18b62ba4",
   "metadata": {
    "execution": {
     "iopub.execute_input": "2025-06-03T13:36:12.427232Z",
     "iopub.status.busy": "2025-06-03T13:36:12.426808Z",
     "iopub.status.idle": "2025-06-03T13:36:12.436824Z",
     "shell.execute_reply": "2025-06-03T13:36:12.435813Z"
    },
    "papermill": {
     "duration": 0.01758,
     "end_time": "2025-06-03T13:36:12.438891",
     "exception": false,
     "start_time": "2025-06-03T13:36:12.421311",
     "status": "completed"
    },
    "tags": []
   },
   "outputs": [
    {
     "data": {
      "text/html": [
       "<div>\n",
       "<style scoped>\n",
       "    .dataframe tbody tr th:only-of-type {\n",
       "        vertical-align: middle;\n",
       "    }\n",
       "\n",
       "    .dataframe tbody tr th {\n",
       "        vertical-align: top;\n",
       "    }\n",
       "\n",
       "    .dataframe thead th {\n",
       "        text-align: right;\n",
       "    }\n",
       "</style>\n",
       "<table border=\"1\" class=\"dataframe\">\n",
       "  <thead>\n",
       "    <tr style=\"text-align: right;\">\n",
       "      <th></th>\n",
       "      <th>nome</th>\n",
       "      <th>email</th>\n",
       "      <th>VerificarTamanho</th>\n",
       "    </tr>\n",
       "  </thead>\n",
       "  <tbody>\n",
       "    <tr>\n",
       "      <th>0</th>\n",
       "      <td>Ana Silva</td>\n",
       "      <td>ana.silva@exemplo.com</td>\n",
       "      <td>9</td>\n",
       "    </tr>\n",
       "    <tr>\n",
       "      <th>1</th>\n",
       "      <td>João Souza</td>\n",
       "      <td>joao.souza@exemplo.com</td>\n",
       "      <td>10</td>\n",
       "    </tr>\n",
       "    <tr>\n",
       "      <th>2</th>\n",
       "      <td>Maria Oliveira</td>\n",
       "      <td>maria.oliveira@exemplo.com</td>\n",
       "      <td>14</td>\n",
       "    </tr>\n",
       "    <tr>\n",
       "      <th>3</th>\n",
       "      <td>Carlos Pereira</td>\n",
       "      <td>carlos.pereira@exemplo.com</td>\n",
       "      <td>14</td>\n",
       "    </tr>\n",
       "  </tbody>\n",
       "</table>\n",
       "</div>"
      ],
      "text/plain": [
       "             nome                        email  VerificarTamanho\n",
       "0       Ana Silva        ana.silva@exemplo.com                 9\n",
       "1      João Souza      joao.souza@exemplo.com                 10\n",
       "2  Maria Oliveira   maria.oliveira@exemplo.com                14\n",
       "3  Carlos Pereira   carlos.pereira@exemplo.com                14"
      ]
     },
     "execution_count": 12,
     "metadata": {},
     "output_type": "execute_result"
    }
   ],
   "source": [
    "df[\"VerificarTamanho\"] = df['nome'].str.len()\n",
    "df"
   ]
  },
  {
   "cell_type": "markdown",
   "id": "0efad0f7",
   "metadata": {
    "papermill": {
     "duration": 0.004178,
     "end_time": "2025-06-03T13:36:12.448103",
     "exception": false,
     "start_time": "2025-06-03T13:36:12.443925",
     "status": "completed"
    },
    "tags": []
   },
   "source": [
    "Como todos os @ são iguais, irei relirá-los"
   ]
  },
  {
   "cell_type": "code",
   "execution_count": 13,
   "id": "90d76edc",
   "metadata": {
    "execution": {
     "iopub.execute_input": "2025-06-03T13:36:12.460659Z",
     "iopub.status.busy": "2025-06-03T13:36:12.460338Z",
     "iopub.status.idle": "2025-06-03T13:36:12.471552Z",
     "shell.execute_reply": "2025-06-03T13:36:12.470286Z"
    },
    "papermill": {
     "duration": 0.019464,
     "end_time": "2025-06-03T13:36:12.473524",
     "exception": false,
     "start_time": "2025-06-03T13:36:12.454060",
     "status": "completed"
    },
    "tags": []
   },
   "outputs": [
    {
     "data": {
      "text/html": [
       "<div>\n",
       "<style scoped>\n",
       "    .dataframe tbody tr th:only-of-type {\n",
       "        vertical-align: middle;\n",
       "    }\n",
       "\n",
       "    .dataframe tbody tr th {\n",
       "        vertical-align: top;\n",
       "    }\n",
       "\n",
       "    .dataframe thead th {\n",
       "        text-align: right;\n",
       "    }\n",
       "</style>\n",
       "<table border=\"1\" class=\"dataframe\">\n",
       "  <thead>\n",
       "    <tr style=\"text-align: right;\">\n",
       "      <th></th>\n",
       "      <th>nome</th>\n",
       "      <th>email</th>\n",
       "      <th>VerificarTamanho</th>\n",
       "    </tr>\n",
       "  </thead>\n",
       "  <tbody>\n",
       "    <tr>\n",
       "      <th>0</th>\n",
       "      <td>Ana Silva</td>\n",
       "      <td>ana.silva</td>\n",
       "      <td>9</td>\n",
       "    </tr>\n",
       "    <tr>\n",
       "      <th>1</th>\n",
       "      <td>João Souza</td>\n",
       "      <td>joao.souza</td>\n",
       "      <td>10</td>\n",
       "    </tr>\n",
       "    <tr>\n",
       "      <th>2</th>\n",
       "      <td>Maria Oliveira</td>\n",
       "      <td>maria.oliveira</td>\n",
       "      <td>14</td>\n",
       "    </tr>\n",
       "    <tr>\n",
       "      <th>3</th>\n",
       "      <td>Carlos Pereira</td>\n",
       "      <td>carlos.pereira</td>\n",
       "      <td>14</td>\n",
       "    </tr>\n",
       "  </tbody>\n",
       "</table>\n",
       "</div>"
      ],
      "text/plain": [
       "             nome            email  VerificarTamanho\n",
       "0       Ana Silva        ana.silva                 9\n",
       "1      João Souza      joao.souza                 10\n",
       "2  Maria Oliveira   maria.oliveira                14\n",
       "3  Carlos Pereira   carlos.pereira                14"
      ]
     },
     "execution_count": 13,
     "metadata": {},
     "output_type": "execute_result"
    }
   ],
   "source": [
    "df[\"email\"] = df[\"email\"].str.replace(\"@exemplo.com\",\"\", case=False)\n",
    "df"
   ]
  },
  {
   "cell_type": "markdown",
   "id": "89bc22de",
   "metadata": {
    "papermill": {
     "duration": 0.004603,
     "end_time": "2025-06-03T13:36:12.484099",
     "exception": false,
     "start_time": "2025-06-03T13:36:12.479496",
     "status": "completed"
    },
    "tags": []
   },
   "source": [
    "Dropando coluna que verifica o tamanho, sem necessidade de tê-la"
   ]
  },
  {
   "cell_type": "code",
   "execution_count": 14,
   "id": "27b931a0",
   "metadata": {
    "execution": {
     "iopub.execute_input": "2025-06-03T13:36:12.495216Z",
     "iopub.status.busy": "2025-06-03T13:36:12.494898Z",
     "iopub.status.idle": "2025-06-03T13:36:12.516410Z",
     "shell.execute_reply": "2025-06-03T13:36:12.515037Z"
    },
    "papermill": {
     "duration": 0.029166,
     "end_time": "2025-06-03T13:36:12.518307",
     "exception": false,
     "start_time": "2025-06-03T13:36:12.489141",
     "status": "completed"
    },
    "tags": []
   },
   "outputs": [
    {
     "data": {
      "text/html": [
       "<div>\n",
       "<style scoped>\n",
       "    .dataframe tbody tr th:only-of-type {\n",
       "        vertical-align: middle;\n",
       "    }\n",
       "\n",
       "    .dataframe tbody tr th {\n",
       "        vertical-align: top;\n",
       "    }\n",
       "\n",
       "    .dataframe thead th {\n",
       "        text-align: right;\n",
       "    }\n",
       "</style>\n",
       "<table border=\"1\" class=\"dataframe\">\n",
       "  <thead>\n",
       "    <tr style=\"text-align: right;\">\n",
       "      <th></th>\n",
       "      <th>nome</th>\n",
       "      <th>email</th>\n",
       "    </tr>\n",
       "  </thead>\n",
       "  <tbody>\n",
       "    <tr>\n",
       "      <th>0</th>\n",
       "      <td>Ana Silva</td>\n",
       "      <td>ana.silva</td>\n",
       "    </tr>\n",
       "    <tr>\n",
       "      <th>1</th>\n",
       "      <td>João Souza</td>\n",
       "      <td>joao.souza</td>\n",
       "    </tr>\n",
       "    <tr>\n",
       "      <th>2</th>\n",
       "      <td>Maria Oliveira</td>\n",
       "      <td>maria.oliveira</td>\n",
       "    </tr>\n",
       "    <tr>\n",
       "      <th>3</th>\n",
       "      <td>Carlos Pereira</td>\n",
       "      <td>carlos.pereira</td>\n",
       "    </tr>\n",
       "  </tbody>\n",
       "</table>\n",
       "</div>"
      ],
      "text/plain": [
       "             nome            email\n",
       "0       Ana Silva        ana.silva\n",
       "1      João Souza      joao.souza \n",
       "2  Maria Oliveira   maria.oliveira\n",
       "3  Carlos Pereira   carlos.pereira"
      ]
     },
     "execution_count": 14,
     "metadata": {},
     "output_type": "execute_result"
    }
   ],
   "source": [
    "df = df.drop('VerificarTamanho', axis=1)\n",
    "df"
   ]
  }
 ],
 "metadata": {
  "kaggle": {
   "accelerator": "none",
   "dataSources": [
    {
     "datasetId": 7540606,
     "sourceId": 11988752,
     "sourceType": "datasetVersion"
    }
   ],
   "dockerImageVersionId": 31040,
   "isGpuEnabled": false,
   "isInternetEnabled": false,
   "language": "python",
   "sourceType": "notebook"
  },
  "kernelspec": {
   "display_name": "Python 3",
   "language": "python",
   "name": "python3"
  },
  "language_info": {
   "codemirror_mode": {
    "name": "ipython",
    "version": 3
   },
   "file_extension": ".py",
   "mimetype": "text/x-python",
   "name": "python",
   "nbconvert_exporter": "python",
   "pygments_lexer": "ipython3",
   "version": "3.11.11"
  },
  "papermill": {
   "default_parameters": {},
   "duration": 10.023575,
   "end_time": "2025-06-03T13:36:13.145392",
   "environment_variables": {},
   "exception": null,
   "input_path": "__notebook__.ipynb",
   "output_path": "__notebook__.ipynb",
   "parameters": {},
   "start_time": "2025-06-03T13:36:03.121817",
   "version": "2.6.0"
  }
 },
 "nbformat": 4,
 "nbformat_minor": 5
}
