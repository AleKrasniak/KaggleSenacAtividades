{
 "cells": [
  {
   "cell_type": "code",
   "execution_count": null,
   "id": "f358904d",
   "metadata": {
    "execution": {
     "iopub.execute_input": "2025-06-03T13:37:00.707692Z",
     "iopub.status.busy": "2025-06-03T13:37:00.707321Z",
     "iopub.status.idle": "2025-06-03T13:37:00.721878Z",
     "shell.execute_reply": "2025-06-03T13:37:00.720663Z",
     "shell.execute_reply.started": "2025-06-03T13:37:00.707668Z"
    },
    "papermill": {
     "duration": 0.00569,
     "end_time": "2025-06-03T13:43:36.034051",
     "exception": false,
     "start_time": "2025-06-03T13:43:36.028361",
     "status": "completed"
    },
    "tags": []
   },
   "outputs": [],
   "source": []
  },
  {
   "cell_type": "code",
   "execution_count": 1,
   "id": "8244a1bb",
   "metadata": {
    "execution": {
     "iopub.execute_input": "2025-06-03T13:43:36.044586Z",
     "iopub.status.busy": "2025-06-03T13:43:36.044283Z",
     "iopub.status.idle": "2025-06-03T13:43:36.055479Z",
     "shell.execute_reply": "2025-06-03T13:43:36.054315Z"
    },
    "papermill": {
     "duration": 0.018648,
     "end_time": "2025-06-03T13:43:36.057356",
     "exception": false,
     "start_time": "2025-06-03T13:43:36.038708",
     "status": "completed"
    },
    "tags": []
   },
   "outputs": [
    {
     "name": "stdout",
     "output_type": "stream",
     "text": [
      "['__notebook__.ipynb']\n"
     ]
    }
   ],
   "source": [
    "import os\n",
    "\n",
    "# Lista os arquivos dentro do diretório /kaggle/working/\n",
    "print(os.listdir(\"/kaggle/working/\"))"
   ]
  },
  {
   "cell_type": "code",
   "execution_count": 2,
   "id": "ae1bea4a",
   "metadata": {
    "_cell_guid": "b1076dfc-b9ad-4769-8c92-a6c4dae69d19",
    "_uuid": "8f2839f25d086af736a60e9eeb907d3b93b6e0e5",
    "execution": {
     "iopub.execute_input": "2025-06-03T13:43:36.066750Z",
     "iopub.status.busy": "2025-06-03T13:43:36.066413Z",
     "iopub.status.idle": "2025-06-03T13:43:38.802106Z",
     "shell.execute_reply": "2025-06-03T13:43:38.800812Z"
    },
    "papermill": {
     "duration": 2.74241,
     "end_time": "2025-06-03T13:43:38.804047",
     "exception": false,
     "start_time": "2025-06-03T13:43:36.061637",
     "status": "completed"
    },
    "tags": []
   },
   "outputs": [],
   "source": [
    "import pandas as pd"
   ]
  },
  {
   "cell_type": "code",
   "execution_count": 3,
   "id": "528aa93f",
   "metadata": {
    "execution": {
     "iopub.execute_input": "2025-06-03T13:43:38.814794Z",
     "iopub.status.busy": "2025-06-03T13:43:38.814286Z",
     "iopub.status.idle": "2025-06-03T13:43:38.850367Z",
     "shell.execute_reply": "2025-06-03T13:43:38.848998Z"
    },
    "papermill": {
     "duration": 0.04364,
     "end_time": "2025-06-03T13:43:38.852168",
     "exception": false,
     "start_time": "2025-06-03T13:43:38.808528",
     "status": "completed"
    },
    "tags": []
   },
   "outputs": [],
   "source": [
    "df = pd.read_csv('/kaggle/input/alunos-base1/alunos_base_1.csv')"
   ]
  },
  {
   "cell_type": "code",
   "execution_count": 4,
   "id": "cf2f2b82",
   "metadata": {
    "execution": {
     "iopub.execute_input": "2025-06-03T13:43:38.861809Z",
     "iopub.status.busy": "2025-06-03T13:43:38.861512Z",
     "iopub.status.idle": "2025-06-03T13:43:38.889724Z",
     "shell.execute_reply": "2025-06-03T13:43:38.888768Z"
    },
    "papermill": {
     "duration": 0.035289,
     "end_time": "2025-06-03T13:43:38.891480",
     "exception": false,
     "start_time": "2025-06-03T13:43:38.856191",
     "status": "completed"
    },
    "tags": []
   },
   "outputs": [
    {
     "data": {
      "text/html": [
       "<div>\n",
       "<style scoped>\n",
       "    .dataframe tbody tr th:only-of-type {\n",
       "        vertical-align: middle;\n",
       "    }\n",
       "\n",
       "    .dataframe tbody tr th {\n",
       "        vertical-align: top;\n",
       "    }\n",
       "\n",
       "    .dataframe thead th {\n",
       "        text-align: right;\n",
       "    }\n",
       "</style>\n",
       "<table border=\"1\" class=\"dataframe\">\n",
       "  <thead>\n",
       "    <tr style=\"text-align: right;\">\n",
       "      <th></th>\n",
       "      <th>nome</th>\n",
       "      <th>email</th>\n",
       "    </tr>\n",
       "  </thead>\n",
       "  <tbody>\n",
       "    <tr>\n",
       "      <th>0</th>\n",
       "      <td>ana silva</td>\n",
       "      <td>ANA.SILVA@EXEMPLO.COM</td>\n",
       "    </tr>\n",
       "    <tr>\n",
       "      <th>1</th>\n",
       "      <td>joão Souza</td>\n",
       "      <td>joao.souza@exemplo.com</td>\n",
       "    </tr>\n",
       "    <tr>\n",
       "      <th>2</th>\n",
       "      <td>MARIA oliveira</td>\n",
       "      <td>maria.oliveira@exemplo.com</td>\n",
       "    </tr>\n",
       "    <tr>\n",
       "      <th>3</th>\n",
       "      <td>Carlos pereira</td>\n",
       "      <td>CARLOS.PEREIRA@EXEMPLO.com</td>\n",
       "    </tr>\n",
       "  </tbody>\n",
       "</table>\n",
       "</div>"
      ],
      "text/plain": [
       "              nome                        email\n",
       "0       ana silva         ANA.SILVA@EXEMPLO.COM\n",
       "1       joão Souza      joao.souza@exemplo.com \n",
       "2   MARIA oliveira   maria.oliveira@exemplo.com\n",
       "3  Carlos pereira    CARLOS.PEREIRA@EXEMPLO.com"
      ]
     },
     "execution_count": 4,
     "metadata": {},
     "output_type": "execute_result"
    }
   ],
   "source": [
    "df"
   ]
  },
  {
   "cell_type": "markdown",
   "id": "d98f06bb",
   "metadata": {
    "papermill": {
     "duration": 0.003766,
     "end_time": "2025-06-03T13:43:38.899548",
     "exception": false,
     "start_time": "2025-06-03T13:43:38.895782",
     "status": "completed"
    },
    "tags": []
   },
   "source": [
    "Nomes em CamelCase"
   ]
  },
  {
   "cell_type": "code",
   "execution_count": 5,
   "id": "75262abb",
   "metadata": {
    "execution": {
     "iopub.execute_input": "2025-06-03T13:43:38.908666Z",
     "iopub.status.busy": "2025-06-03T13:43:38.908341Z",
     "iopub.status.idle": "2025-06-03T13:43:38.921392Z",
     "shell.execute_reply": "2025-06-03T13:43:38.920176Z"
    },
    "papermill": {
     "duration": 0.019726,
     "end_time": "2025-06-03T13:43:38.923223",
     "exception": false,
     "start_time": "2025-06-03T13:43:38.903497",
     "status": "completed"
    },
    "tags": []
   },
   "outputs": [],
   "source": [
    "df[\"nome\"] = df[\"nome\"].str.title()"
   ]
  },
  {
   "cell_type": "code",
   "execution_count": 6,
   "id": "eb8642ac",
   "metadata": {
    "execution": {
     "iopub.execute_input": "2025-06-03T13:43:38.932727Z",
     "iopub.status.busy": "2025-06-03T13:43:38.932382Z",
     "iopub.status.idle": "2025-06-03T13:43:38.940959Z",
     "shell.execute_reply": "2025-06-03T13:43:38.939993Z"
    },
    "papermill": {
     "duration": 0.016174,
     "end_time": "2025-06-03T13:43:38.943576",
     "exception": false,
     "start_time": "2025-06-03T13:43:38.927402",
     "status": "completed"
    },
    "tags": []
   },
   "outputs": [
    {
     "data": {
      "text/html": [
       "<div>\n",
       "<style scoped>\n",
       "    .dataframe tbody tr th:only-of-type {\n",
       "        vertical-align: middle;\n",
       "    }\n",
       "\n",
       "    .dataframe tbody tr th {\n",
       "        vertical-align: top;\n",
       "    }\n",
       "\n",
       "    .dataframe thead th {\n",
       "        text-align: right;\n",
       "    }\n",
       "</style>\n",
       "<table border=\"1\" class=\"dataframe\">\n",
       "  <thead>\n",
       "    <tr style=\"text-align: right;\">\n",
       "      <th></th>\n",
       "      <th>nome</th>\n",
       "      <th>email</th>\n",
       "    </tr>\n",
       "  </thead>\n",
       "  <tbody>\n",
       "    <tr>\n",
       "      <th>0</th>\n",
       "      <td>Ana Silva</td>\n",
       "      <td>ANA.SILVA@EXEMPLO.COM</td>\n",
       "    </tr>\n",
       "    <tr>\n",
       "      <th>1</th>\n",
       "      <td>João Souza</td>\n",
       "      <td>joao.souza@exemplo.com</td>\n",
       "    </tr>\n",
       "    <tr>\n",
       "      <th>2</th>\n",
       "      <td>Maria Oliveira</td>\n",
       "      <td>maria.oliveira@exemplo.com</td>\n",
       "    </tr>\n",
       "    <tr>\n",
       "      <th>3</th>\n",
       "      <td>Carlos Pereira</td>\n",
       "      <td>CARLOS.PEREIRA@EXEMPLO.com</td>\n",
       "    </tr>\n",
       "  </tbody>\n",
       "</table>\n",
       "</div>"
      ],
      "text/plain": [
       "              nome                        email\n",
       "0       Ana Silva         ANA.SILVA@EXEMPLO.COM\n",
       "1       João Souza      joao.souza@exemplo.com \n",
       "2   Maria Oliveira   maria.oliveira@exemplo.com\n",
       "3  Carlos Pereira    CARLOS.PEREIRA@EXEMPLO.com"
      ]
     },
     "execution_count": 6,
     "metadata": {},
     "output_type": "execute_result"
    }
   ],
   "source": [
    "df"
   ]
  },
  {
   "cell_type": "markdown",
   "id": "ea7a10d8",
   "metadata": {
    "papermill": {
     "duration": 0.003921,
     "end_time": "2025-06-03T13:43:38.951839",
     "exception": false,
     "start_time": "2025-06-03T13:43:38.947918",
     "status": "completed"
    },
    "tags": []
   },
   "source": [
    "Email em minusculo"
   ]
  },
  {
   "cell_type": "code",
   "execution_count": 7,
   "id": "d30e7693",
   "metadata": {
    "execution": {
     "iopub.execute_input": "2025-06-03T13:43:38.962460Z",
     "iopub.status.busy": "2025-06-03T13:43:38.962130Z",
     "iopub.status.idle": "2025-06-03T13:43:38.970069Z",
     "shell.execute_reply": "2025-06-03T13:43:38.968816Z"
    },
    "papermill": {
     "duration": 0.015161,
     "end_time": "2025-06-03T13:43:38.971987",
     "exception": false,
     "start_time": "2025-06-03T13:43:38.956826",
     "status": "completed"
    },
    "tags": []
   },
   "outputs": [],
   "source": [
    "df[\"email\"] = df[\"email\"].str.lower()"
   ]
  },
  {
   "cell_type": "code",
   "execution_count": 8,
   "id": "95c5bc98",
   "metadata": {
    "execution": {
     "iopub.execute_input": "2025-06-03T13:43:38.983309Z",
     "iopub.status.busy": "2025-06-03T13:43:38.982748Z",
     "iopub.status.idle": "2025-06-03T13:43:38.992550Z",
     "shell.execute_reply": "2025-06-03T13:43:38.991174Z"
    },
    "papermill": {
     "duration": 0.017375,
     "end_time": "2025-06-03T13:43:38.994528",
     "exception": false,
     "start_time": "2025-06-03T13:43:38.977153",
     "status": "completed"
    },
    "tags": []
   },
   "outputs": [
    {
     "data": {
      "text/html": [
       "<div>\n",
       "<style scoped>\n",
       "    .dataframe tbody tr th:only-of-type {\n",
       "        vertical-align: middle;\n",
       "    }\n",
       "\n",
       "    .dataframe tbody tr th {\n",
       "        vertical-align: top;\n",
       "    }\n",
       "\n",
       "    .dataframe thead th {\n",
       "        text-align: right;\n",
       "    }\n",
       "</style>\n",
       "<table border=\"1\" class=\"dataframe\">\n",
       "  <thead>\n",
       "    <tr style=\"text-align: right;\">\n",
       "      <th></th>\n",
       "      <th>nome</th>\n",
       "      <th>email</th>\n",
       "    </tr>\n",
       "  </thead>\n",
       "  <tbody>\n",
       "    <tr>\n",
       "      <th>0</th>\n",
       "      <td>Ana Silva</td>\n",
       "      <td>ana.silva@exemplo.com</td>\n",
       "    </tr>\n",
       "    <tr>\n",
       "      <th>1</th>\n",
       "      <td>João Souza</td>\n",
       "      <td>joao.souza@exemplo.com</td>\n",
       "    </tr>\n",
       "    <tr>\n",
       "      <th>2</th>\n",
       "      <td>Maria Oliveira</td>\n",
       "      <td>maria.oliveira@exemplo.com</td>\n",
       "    </tr>\n",
       "    <tr>\n",
       "      <th>3</th>\n",
       "      <td>Carlos Pereira</td>\n",
       "      <td>carlos.pereira@exemplo.com</td>\n",
       "    </tr>\n",
       "  </tbody>\n",
       "</table>\n",
       "</div>"
      ],
      "text/plain": [
       "              nome                        email\n",
       "0       Ana Silva         ana.silva@exemplo.com\n",
       "1       João Souza      joao.souza@exemplo.com \n",
       "2   Maria Oliveira   maria.oliveira@exemplo.com\n",
       "3  Carlos Pereira    carlos.pereira@exemplo.com"
      ]
     },
     "execution_count": 8,
     "metadata": {},
     "output_type": "execute_result"
    }
   ],
   "source": [
    "df"
   ]
  },
  {
   "cell_type": "markdown",
   "id": "fa675d30",
   "metadata": {
    "papermill": {
     "duration": 0.004979,
     "end_time": "2025-06-03T13:43:39.004511",
     "exception": false,
     "start_time": "2025-06-03T13:43:38.999532",
     "status": "completed"
    },
    "tags": []
   },
   "source": [
    "Verificar espaços vazios "
   ]
  },
  {
   "cell_type": "code",
   "execution_count": 9,
   "id": "b5f9515c",
   "metadata": {
    "execution": {
     "iopub.execute_input": "2025-06-03T13:43:39.015037Z",
     "iopub.status.busy": "2025-06-03T13:43:39.014698Z",
     "iopub.status.idle": "2025-06-03T13:43:39.021130Z",
     "shell.execute_reply": "2025-06-03T13:43:39.020017Z"
    },
    "papermill": {
     "duration": 0.014095,
     "end_time": "2025-06-03T13:43:39.023127",
     "exception": false,
     "start_time": "2025-06-03T13:43:39.009032",
     "status": "completed"
    },
    "tags": []
   },
   "outputs": [],
   "source": [
    "df[\"VerificarTamanho\"] = df['nome'].str.len()"
   ]
  },
  {
   "cell_type": "code",
   "execution_count": 10,
   "id": "e2734131",
   "metadata": {
    "execution": {
     "iopub.execute_input": "2025-06-03T13:43:39.034092Z",
     "iopub.status.busy": "2025-06-03T13:43:39.033724Z",
     "iopub.status.idle": "2025-06-03T13:43:39.044071Z",
     "shell.execute_reply": "2025-06-03T13:43:39.042349Z"
    },
    "papermill": {
     "duration": 0.017994,
     "end_time": "2025-06-03T13:43:39.046044",
     "exception": false,
     "start_time": "2025-06-03T13:43:39.028050",
     "status": "completed"
    },
    "tags": []
   },
   "outputs": [
    {
     "data": {
      "text/html": [
       "<div>\n",
       "<style scoped>\n",
       "    .dataframe tbody tr th:only-of-type {\n",
       "        vertical-align: middle;\n",
       "    }\n",
       "\n",
       "    .dataframe tbody tr th {\n",
       "        vertical-align: top;\n",
       "    }\n",
       "\n",
       "    .dataframe thead th {\n",
       "        text-align: right;\n",
       "    }\n",
       "</style>\n",
       "<table border=\"1\" class=\"dataframe\">\n",
       "  <thead>\n",
       "    <tr style=\"text-align: right;\">\n",
       "      <th></th>\n",
       "      <th>nome</th>\n",
       "      <th>email</th>\n",
       "      <th>VerificarTamanho</th>\n",
       "    </tr>\n",
       "  </thead>\n",
       "  <tbody>\n",
       "    <tr>\n",
       "      <th>0</th>\n",
       "      <td>Ana Silva</td>\n",
       "      <td>ana.silva@exemplo.com</td>\n",
       "      <td>12</td>\n",
       "    </tr>\n",
       "    <tr>\n",
       "      <th>1</th>\n",
       "      <td>João Souza</td>\n",
       "      <td>joao.souza@exemplo.com</td>\n",
       "      <td>10</td>\n",
       "    </tr>\n",
       "    <tr>\n",
       "      <th>2</th>\n",
       "      <td>Maria Oliveira</td>\n",
       "      <td>maria.oliveira@exemplo.com</td>\n",
       "      <td>15</td>\n",
       "    </tr>\n",
       "    <tr>\n",
       "      <th>3</th>\n",
       "      <td>Carlos Pereira</td>\n",
       "      <td>carlos.pereira@exemplo.com</td>\n",
       "      <td>15</td>\n",
       "    </tr>\n",
       "  </tbody>\n",
       "</table>\n",
       "</div>"
      ],
      "text/plain": [
       "              nome                        email  VerificarTamanho\n",
       "0       Ana Silva         ana.silva@exemplo.com                12\n",
       "1       João Souza      joao.souza@exemplo.com                 10\n",
       "2   Maria Oliveira   maria.oliveira@exemplo.com                15\n",
       "3  Carlos Pereira    carlos.pereira@exemplo.com                15"
      ]
     },
     "execution_count": 10,
     "metadata": {},
     "output_type": "execute_result"
    }
   ],
   "source": [
    "df"
   ]
  },
  {
   "cell_type": "markdown",
   "id": "4ddf9c41",
   "metadata": {
    "papermill": {
     "duration": 0.006103,
     "end_time": "2025-06-03T13:43:39.057640",
     "exception": false,
     "start_time": "2025-06-03T13:43:39.051537",
     "status": "completed"
    },
    "tags": []
   },
   "source": [
    "Tirando espaços se tiver"
   ]
  },
  {
   "cell_type": "code",
   "execution_count": 11,
   "id": "96c05f87",
   "metadata": {
    "execution": {
     "iopub.execute_input": "2025-06-03T13:43:39.072257Z",
     "iopub.status.busy": "2025-06-03T13:43:39.071116Z",
     "iopub.status.idle": "2025-06-03T13:43:39.078492Z",
     "shell.execute_reply": "2025-06-03T13:43:39.077479Z"
    },
    "papermill": {
     "duration": 0.017648,
     "end_time": "2025-06-03T13:43:39.080142",
     "exception": false,
     "start_time": "2025-06-03T13:43:39.062494",
     "status": "completed"
    },
    "tags": []
   },
   "outputs": [],
   "source": [
    "df[\"nome\"] = df [\"nome\"].str.strip()"
   ]
  },
  {
   "cell_type": "code",
   "execution_count": 12,
   "id": "bbd59f1b",
   "metadata": {
    "execution": {
     "iopub.execute_input": "2025-06-03T13:43:39.091275Z",
     "iopub.status.busy": "2025-06-03T13:43:39.090936Z",
     "iopub.status.idle": "2025-06-03T13:43:39.101748Z",
     "shell.execute_reply": "2025-06-03T13:43:39.100513Z"
    },
    "papermill": {
     "duration": 0.018615,
     "end_time": "2025-06-03T13:43:39.103485",
     "exception": false,
     "start_time": "2025-06-03T13:43:39.084870",
     "status": "completed"
    },
    "tags": []
   },
   "outputs": [
    {
     "data": {
      "text/html": [
       "<div>\n",
       "<style scoped>\n",
       "    .dataframe tbody tr th:only-of-type {\n",
       "        vertical-align: middle;\n",
       "    }\n",
       "\n",
       "    .dataframe tbody tr th {\n",
       "        vertical-align: top;\n",
       "    }\n",
       "\n",
       "    .dataframe thead th {\n",
       "        text-align: right;\n",
       "    }\n",
       "</style>\n",
       "<table border=\"1\" class=\"dataframe\">\n",
       "  <thead>\n",
       "    <tr style=\"text-align: right;\">\n",
       "      <th></th>\n",
       "      <th>nome</th>\n",
       "      <th>email</th>\n",
       "      <th>VerificarTamanho</th>\n",
       "    </tr>\n",
       "  </thead>\n",
       "  <tbody>\n",
       "    <tr>\n",
       "      <th>0</th>\n",
       "      <td>Ana Silva</td>\n",
       "      <td>ana.silva@exemplo.com</td>\n",
       "      <td>9</td>\n",
       "    </tr>\n",
       "    <tr>\n",
       "      <th>1</th>\n",
       "      <td>João Souza</td>\n",
       "      <td>joao.souza@exemplo.com</td>\n",
       "      <td>10</td>\n",
       "    </tr>\n",
       "    <tr>\n",
       "      <th>2</th>\n",
       "      <td>Maria Oliveira</td>\n",
       "      <td>maria.oliveira@exemplo.com</td>\n",
       "      <td>14</td>\n",
       "    </tr>\n",
       "    <tr>\n",
       "      <th>3</th>\n",
       "      <td>Carlos Pereira</td>\n",
       "      <td>carlos.pereira@exemplo.com</td>\n",
       "      <td>14</td>\n",
       "    </tr>\n",
       "  </tbody>\n",
       "</table>\n",
       "</div>"
      ],
      "text/plain": [
       "             nome                        email  VerificarTamanho\n",
       "0       Ana Silva        ana.silva@exemplo.com                 9\n",
       "1      João Souza      joao.souza@exemplo.com                 10\n",
       "2  Maria Oliveira   maria.oliveira@exemplo.com                14\n",
       "3  Carlos Pereira   carlos.pereira@exemplo.com                14"
      ]
     },
     "execution_count": 12,
     "metadata": {},
     "output_type": "execute_result"
    }
   ],
   "source": [
    "df[\"VerificarTamanho\"] = df['nome'].str.len()\n",
    "df"
   ]
  },
  {
   "cell_type": "markdown",
   "id": "4fa94f6f",
   "metadata": {
    "papermill": {
     "duration": 0.005746,
     "end_time": "2025-06-03T13:43:39.113790",
     "exception": false,
     "start_time": "2025-06-03T13:43:39.108044",
     "status": "completed"
    },
    "tags": []
   },
   "source": [
    "Como todos os @ são iguais, irei relirá-los"
   ]
  },
  {
   "cell_type": "code",
   "execution_count": 13,
   "id": "9a4ade42",
   "metadata": {
    "execution": {
     "iopub.execute_input": "2025-06-03T13:43:39.124762Z",
     "iopub.status.busy": "2025-06-03T13:43:39.124430Z",
     "iopub.status.idle": "2025-06-03T13:43:39.136743Z",
     "shell.execute_reply": "2025-06-03T13:43:39.135437Z"
    },
    "papermill": {
     "duration": 0.019959,
     "end_time": "2025-06-03T13:43:39.138808",
     "exception": false,
     "start_time": "2025-06-03T13:43:39.118849",
     "status": "completed"
    },
    "tags": []
   },
   "outputs": [
    {
     "data": {
      "text/html": [
       "<div>\n",
       "<style scoped>\n",
       "    .dataframe tbody tr th:only-of-type {\n",
       "        vertical-align: middle;\n",
       "    }\n",
       "\n",
       "    .dataframe tbody tr th {\n",
       "        vertical-align: top;\n",
       "    }\n",
       "\n",
       "    .dataframe thead th {\n",
       "        text-align: right;\n",
       "    }\n",
       "</style>\n",
       "<table border=\"1\" class=\"dataframe\">\n",
       "  <thead>\n",
       "    <tr style=\"text-align: right;\">\n",
       "      <th></th>\n",
       "      <th>nome</th>\n",
       "      <th>email</th>\n",
       "      <th>VerificarTamanho</th>\n",
       "    </tr>\n",
       "  </thead>\n",
       "  <tbody>\n",
       "    <tr>\n",
       "      <th>0</th>\n",
       "      <td>Ana Silva</td>\n",
       "      <td>ana.silva</td>\n",
       "      <td>9</td>\n",
       "    </tr>\n",
       "    <tr>\n",
       "      <th>1</th>\n",
       "      <td>João Souza</td>\n",
       "      <td>joao.souza</td>\n",
       "      <td>10</td>\n",
       "    </tr>\n",
       "    <tr>\n",
       "      <th>2</th>\n",
       "      <td>Maria Oliveira</td>\n",
       "      <td>maria.oliveira</td>\n",
       "      <td>14</td>\n",
       "    </tr>\n",
       "    <tr>\n",
       "      <th>3</th>\n",
       "      <td>Carlos Pereira</td>\n",
       "      <td>carlos.pereira</td>\n",
       "      <td>14</td>\n",
       "    </tr>\n",
       "  </tbody>\n",
       "</table>\n",
       "</div>"
      ],
      "text/plain": [
       "             nome            email  VerificarTamanho\n",
       "0       Ana Silva        ana.silva                 9\n",
       "1      João Souza      joao.souza                 10\n",
       "2  Maria Oliveira   maria.oliveira                14\n",
       "3  Carlos Pereira   carlos.pereira                14"
      ]
     },
     "execution_count": 13,
     "metadata": {},
     "output_type": "execute_result"
    }
   ],
   "source": [
    "df[\"email\"] = df[\"email\"].str.replace(\"@exemplo.com\",\"\", case=False)\n",
    "df"
   ]
  },
  {
   "cell_type": "markdown",
   "id": "58792481",
   "metadata": {
    "papermill": {
     "duration": 0.004371,
     "end_time": "2025-06-03T13:43:39.148829",
     "exception": false,
     "start_time": "2025-06-03T13:43:39.144458",
     "status": "completed"
    },
    "tags": []
   },
   "source": [
    "Dropando coluna que verifica o tamanho, sem necessidade de tê-la"
   ]
  },
  {
   "cell_type": "code",
   "execution_count": 14,
   "id": "8bb34494",
   "metadata": {
    "execution": {
     "iopub.execute_input": "2025-06-03T13:43:39.159209Z",
     "iopub.status.busy": "2025-06-03T13:43:39.158851Z",
     "iopub.status.idle": "2025-06-03T13:43:39.174457Z",
     "shell.execute_reply": "2025-06-03T13:43:39.173528Z"
    },
    "papermill": {
     "duration": 0.022681,
     "end_time": "2025-06-03T13:43:39.176076",
     "exception": false,
     "start_time": "2025-06-03T13:43:39.153395",
     "status": "completed"
    },
    "tags": []
   },
   "outputs": [
    {
     "data": {
      "text/html": [
       "<div>\n",
       "<style scoped>\n",
       "    .dataframe tbody tr th:only-of-type {\n",
       "        vertical-align: middle;\n",
       "    }\n",
       "\n",
       "    .dataframe tbody tr th {\n",
       "        vertical-align: top;\n",
       "    }\n",
       "\n",
       "    .dataframe thead th {\n",
       "        text-align: right;\n",
       "    }\n",
       "</style>\n",
       "<table border=\"1\" class=\"dataframe\">\n",
       "  <thead>\n",
       "    <tr style=\"text-align: right;\">\n",
       "      <th></th>\n",
       "      <th>nome</th>\n",
       "      <th>email</th>\n",
       "    </tr>\n",
       "  </thead>\n",
       "  <tbody>\n",
       "    <tr>\n",
       "      <th>0</th>\n",
       "      <td>Ana Silva</td>\n",
       "      <td>ana.silva</td>\n",
       "    </tr>\n",
       "    <tr>\n",
       "      <th>1</th>\n",
       "      <td>João Souza</td>\n",
       "      <td>joao.souza</td>\n",
       "    </tr>\n",
       "    <tr>\n",
       "      <th>2</th>\n",
       "      <td>Maria Oliveira</td>\n",
       "      <td>maria.oliveira</td>\n",
       "    </tr>\n",
       "    <tr>\n",
       "      <th>3</th>\n",
       "      <td>Carlos Pereira</td>\n",
       "      <td>carlos.pereira</td>\n",
       "    </tr>\n",
       "  </tbody>\n",
       "</table>\n",
       "</div>"
      ],
      "text/plain": [
       "             nome            email\n",
       "0       Ana Silva        ana.silva\n",
       "1      João Souza      joao.souza \n",
       "2  Maria Oliveira   maria.oliveira\n",
       "3  Carlos Pereira   carlos.pereira"
      ]
     },
     "execution_count": 14,
     "metadata": {},
     "output_type": "execute_result"
    }
   ],
   "source": [
    "df = df.drop('VerificarTamanho', axis=1)\n",
    "df"
   ]
  }
 ],
 "metadata": {
  "kaggle": {
   "accelerator": "none",
   "dataSources": [
    {
     "datasetId": 7540606,
     "sourceId": 11988752,
     "sourceType": "datasetVersion"
    }
   ],
   "dockerImageVersionId": 31040,
   "isGpuEnabled": false,
   "isInternetEnabled": false,
   "language": "python",
   "sourceType": "notebook"
  },
  "kernelspec": {
   "display_name": "Python 3",
   "language": "python",
   "name": "python3"
  },
  "language_info": {
   "codemirror_mode": {
    "name": "ipython",
    "version": 3
   },
   "file_extension": ".py",
   "mimetype": "text/x-python",
   "name": "python",
   "nbconvert_exporter": "python",
   "pygments_lexer": "ipython3",
   "version": "3.11.11"
  },
  "papermill": {
   "default_parameters": {},
   "duration": 9.601149,
   "end_time": "2025-06-03T13:43:39.904801",
   "environment_variables": {},
   "exception": null,
   "input_path": "__notebook__.ipynb",
   "output_path": "__notebook__.ipynb",
   "parameters": {},
   "start_time": "2025-06-03T13:43:30.303652",
   "version": "2.6.0"
  }
 },
 "nbformat": 4,
 "nbformat_minor": 5
}
