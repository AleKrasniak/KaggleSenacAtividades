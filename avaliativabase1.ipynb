{
 "cells": [
  {
   "cell_type": "code",
   "execution_count": 1,
   "id": "376926a2",
   "metadata": {
    "_cell_guid": "b1076dfc-b9ad-4769-8c92-a6c4dae69d19",
    "_uuid": "8f2839f25d086af736a60e9eeb907d3b93b6e0e5",
    "execution": {
     "iopub.execute_input": "2025-06-03T15:44:37.918024Z",
     "iopub.status.busy": "2025-06-03T15:44:37.917679Z",
     "iopub.status.idle": "2025-06-03T15:44:40.087817Z",
     "shell.execute_reply": "2025-06-03T15:44:40.086880Z"
    },
    "papermill": {
     "duration": 2.177474,
     "end_time": "2025-06-03T15:44:40.089636",
     "exception": false,
     "start_time": "2025-06-03T15:44:37.912162",
     "status": "completed"
    },
    "tags": []
   },
   "outputs": [],
   "source": [
    "import pandas as pd"
   ]
  },
  {
   "cell_type": "code",
   "execution_count": 2,
   "id": "5deb38e6",
   "metadata": {
    "execution": {
     "iopub.execute_input": "2025-06-03T15:44:40.098660Z",
     "iopub.status.busy": "2025-06-03T15:44:40.098172Z",
     "iopub.status.idle": "2025-06-03T15:44:40.129143Z",
     "shell.execute_reply": "2025-06-03T15:44:40.128086Z"
    },
    "papermill": {
     "duration": 0.037527,
     "end_time": "2025-06-03T15:44:40.131070",
     "exception": false,
     "start_time": "2025-06-03T15:44:40.093543",
     "status": "completed"
    },
    "tags": []
   },
   "outputs": [],
   "source": [
    "df = pd.read_csv('/kaggle/input/alunos-base1/alunos_base_1.csv')"
   ]
  },
  {
   "cell_type": "code",
   "execution_count": 3,
   "id": "45345d6d",
   "metadata": {
    "execution": {
     "iopub.execute_input": "2025-06-03T15:44:40.139590Z",
     "iopub.status.busy": "2025-06-03T15:44:40.139278Z",
     "iopub.status.idle": "2025-06-03T15:44:40.166275Z",
     "shell.execute_reply": "2025-06-03T15:44:40.165235Z"
    },
    "papermill": {
     "duration": 0.033085,
     "end_time": "2025-06-03T15:44:40.167905",
     "exception": false,
     "start_time": "2025-06-03T15:44:40.134820",
     "status": "completed"
    },
    "tags": []
   },
   "outputs": [
    {
     "data": {
      "text/html": [
       "<div>\n",
       "<style scoped>\n",
       "    .dataframe tbody tr th:only-of-type {\n",
       "        vertical-align: middle;\n",
       "    }\n",
       "\n",
       "    .dataframe tbody tr th {\n",
       "        vertical-align: top;\n",
       "    }\n",
       "\n",
       "    .dataframe thead th {\n",
       "        text-align: right;\n",
       "    }\n",
       "</style>\n",
       "<table border=\"1\" class=\"dataframe\">\n",
       "  <thead>\n",
       "    <tr style=\"text-align: right;\">\n",
       "      <th></th>\n",
       "      <th>nome</th>\n",
       "      <th>email</th>\n",
       "    </tr>\n",
       "  </thead>\n",
       "  <tbody>\n",
       "    <tr>\n",
       "      <th>0</th>\n",
       "      <td>ana silva</td>\n",
       "      <td>ANA.SILVA@EXEMPLO.COM</td>\n",
       "    </tr>\n",
       "    <tr>\n",
       "      <th>1</th>\n",
       "      <td>joão Souza</td>\n",
       "      <td>joao.souza@exemplo.com</td>\n",
       "    </tr>\n",
       "    <tr>\n",
       "      <th>2</th>\n",
       "      <td>MARIA oliveira</td>\n",
       "      <td>maria.oliveira@exemplo.com</td>\n",
       "    </tr>\n",
       "    <tr>\n",
       "      <th>3</th>\n",
       "      <td>Carlos pereira</td>\n",
       "      <td>CARLOS.PEREIRA@EXEMPLO.com</td>\n",
       "    </tr>\n",
       "  </tbody>\n",
       "</table>\n",
       "</div>"
      ],
      "text/plain": [
       "              nome                        email\n",
       "0       ana silva         ANA.SILVA@EXEMPLO.COM\n",
       "1       joão Souza      joao.souza@exemplo.com \n",
       "2   MARIA oliveira   maria.oliveira@exemplo.com\n",
       "3  Carlos pereira    CARLOS.PEREIRA@EXEMPLO.com"
      ]
     },
     "execution_count": 3,
     "metadata": {},
     "output_type": "execute_result"
    }
   ],
   "source": [
    "df"
   ]
  },
  {
   "cell_type": "markdown",
   "id": "fcf3b125",
   "metadata": {
    "papermill": {
     "duration": 0.00344,
     "end_time": "2025-06-03T15:44:40.175272",
     "exception": false,
     "start_time": "2025-06-03T15:44:40.171832",
     "status": "completed"
    },
    "tags": []
   },
   "source": [
    "Nomes em CamelCase"
   ]
  },
  {
   "cell_type": "code",
   "execution_count": 4,
   "id": "6de76801",
   "metadata": {
    "execution": {
     "iopub.execute_input": "2025-06-03T15:44:40.183954Z",
     "iopub.status.busy": "2025-06-03T15:44:40.183574Z",
     "iopub.status.idle": "2025-06-03T15:44:40.193537Z",
     "shell.execute_reply": "2025-06-03T15:44:40.192401Z"
    },
    "papermill": {
     "duration": 0.01643,
     "end_time": "2025-06-03T15:44:40.195309",
     "exception": false,
     "start_time": "2025-06-03T15:44:40.178879",
     "status": "completed"
    },
    "tags": []
   },
   "outputs": [],
   "source": [
    "df[\"nome\"] = df[\"nome\"].str.title()"
   ]
  },
  {
   "cell_type": "code",
   "execution_count": 5,
   "id": "83c995e0",
   "metadata": {
    "execution": {
     "iopub.execute_input": "2025-06-03T15:44:40.203816Z",
     "iopub.status.busy": "2025-06-03T15:44:40.203509Z",
     "iopub.status.idle": "2025-06-03T15:44:40.213290Z",
     "shell.execute_reply": "2025-06-03T15:44:40.212290Z"
    },
    "papermill": {
     "duration": 0.016279,
     "end_time": "2025-06-03T15:44:40.215234",
     "exception": false,
     "start_time": "2025-06-03T15:44:40.198955",
     "status": "completed"
    },
    "tags": []
   },
   "outputs": [
    {
     "data": {
      "text/html": [
       "<div>\n",
       "<style scoped>\n",
       "    .dataframe tbody tr th:only-of-type {\n",
       "        vertical-align: middle;\n",
       "    }\n",
       "\n",
       "    .dataframe tbody tr th {\n",
       "        vertical-align: top;\n",
       "    }\n",
       "\n",
       "    .dataframe thead th {\n",
       "        text-align: right;\n",
       "    }\n",
       "</style>\n",
       "<table border=\"1\" class=\"dataframe\">\n",
       "  <thead>\n",
       "    <tr style=\"text-align: right;\">\n",
       "      <th></th>\n",
       "      <th>nome</th>\n",
       "      <th>email</th>\n",
       "    </tr>\n",
       "  </thead>\n",
       "  <tbody>\n",
       "    <tr>\n",
       "      <th>0</th>\n",
       "      <td>Ana Silva</td>\n",
       "      <td>ANA.SILVA@EXEMPLO.COM</td>\n",
       "    </tr>\n",
       "    <tr>\n",
       "      <th>1</th>\n",
       "      <td>João Souza</td>\n",
       "      <td>joao.souza@exemplo.com</td>\n",
       "    </tr>\n",
       "    <tr>\n",
       "      <th>2</th>\n",
       "      <td>Maria Oliveira</td>\n",
       "      <td>maria.oliveira@exemplo.com</td>\n",
       "    </tr>\n",
       "    <tr>\n",
       "      <th>3</th>\n",
       "      <td>Carlos Pereira</td>\n",
       "      <td>CARLOS.PEREIRA@EXEMPLO.com</td>\n",
       "    </tr>\n",
       "  </tbody>\n",
       "</table>\n",
       "</div>"
      ],
      "text/plain": [
       "              nome                        email\n",
       "0       Ana Silva         ANA.SILVA@EXEMPLO.COM\n",
       "1       João Souza      joao.souza@exemplo.com \n",
       "2   Maria Oliveira   maria.oliveira@exemplo.com\n",
       "3  Carlos Pereira    CARLOS.PEREIRA@EXEMPLO.com"
      ]
     },
     "execution_count": 5,
     "metadata": {},
     "output_type": "execute_result"
    }
   ],
   "source": [
    "df"
   ]
  },
  {
   "cell_type": "markdown",
   "id": "58fd88b7",
   "metadata": {
    "papermill": {
     "duration": 0.003727,
     "end_time": "2025-06-03T15:44:40.223073",
     "exception": false,
     "start_time": "2025-06-03T15:44:40.219346",
     "status": "completed"
    },
    "tags": []
   },
   "source": [
    "Email em minusculo"
   ]
  },
  {
   "cell_type": "code",
   "execution_count": 6,
   "id": "f1002290",
   "metadata": {
    "execution": {
     "iopub.execute_input": "2025-06-03T15:44:40.231830Z",
     "iopub.status.busy": "2025-06-03T15:44:40.231526Z",
     "iopub.status.idle": "2025-06-03T15:44:40.236744Z",
     "shell.execute_reply": "2025-06-03T15:44:40.235861Z"
    },
    "papermill": {
     "duration": 0.011641,
     "end_time": "2025-06-03T15:44:40.238478",
     "exception": false,
     "start_time": "2025-06-03T15:44:40.226837",
     "status": "completed"
    },
    "tags": []
   },
   "outputs": [],
   "source": [
    "df[\"email\"] = df[\"email\"].str.lower()"
   ]
  },
  {
   "cell_type": "code",
   "execution_count": 7,
   "id": "0e38d9e3",
   "metadata": {
    "execution": {
     "iopub.execute_input": "2025-06-03T15:44:40.247449Z",
     "iopub.status.busy": "2025-06-03T15:44:40.247134Z",
     "iopub.status.idle": "2025-06-03T15:44:40.255722Z",
     "shell.execute_reply": "2025-06-03T15:44:40.254755Z"
    },
    "papermill": {
     "duration": 0.014746,
     "end_time": "2025-06-03T15:44:40.257139",
     "exception": false,
     "start_time": "2025-06-03T15:44:40.242393",
     "status": "completed"
    },
    "tags": []
   },
   "outputs": [
    {
     "data": {
      "text/html": [
       "<div>\n",
       "<style scoped>\n",
       "    .dataframe tbody tr th:only-of-type {\n",
       "        vertical-align: middle;\n",
       "    }\n",
       "\n",
       "    .dataframe tbody tr th {\n",
       "        vertical-align: top;\n",
       "    }\n",
       "\n",
       "    .dataframe thead th {\n",
       "        text-align: right;\n",
       "    }\n",
       "</style>\n",
       "<table border=\"1\" class=\"dataframe\">\n",
       "  <thead>\n",
       "    <tr style=\"text-align: right;\">\n",
       "      <th></th>\n",
       "      <th>nome</th>\n",
       "      <th>email</th>\n",
       "    </tr>\n",
       "  </thead>\n",
       "  <tbody>\n",
       "    <tr>\n",
       "      <th>0</th>\n",
       "      <td>Ana Silva</td>\n",
       "      <td>ana.silva@exemplo.com</td>\n",
       "    </tr>\n",
       "    <tr>\n",
       "      <th>1</th>\n",
       "      <td>João Souza</td>\n",
       "      <td>joao.souza@exemplo.com</td>\n",
       "    </tr>\n",
       "    <tr>\n",
       "      <th>2</th>\n",
       "      <td>Maria Oliveira</td>\n",
       "      <td>maria.oliveira@exemplo.com</td>\n",
       "    </tr>\n",
       "    <tr>\n",
       "      <th>3</th>\n",
       "      <td>Carlos Pereira</td>\n",
       "      <td>carlos.pereira@exemplo.com</td>\n",
       "    </tr>\n",
       "  </tbody>\n",
       "</table>\n",
       "</div>"
      ],
      "text/plain": [
       "              nome                        email\n",
       "0       Ana Silva         ana.silva@exemplo.com\n",
       "1       João Souza      joao.souza@exemplo.com \n",
       "2   Maria Oliveira   maria.oliveira@exemplo.com\n",
       "3  Carlos Pereira    carlos.pereira@exemplo.com"
      ]
     },
     "execution_count": 7,
     "metadata": {},
     "output_type": "execute_result"
    }
   ],
   "source": [
    "df"
   ]
  },
  {
   "cell_type": "markdown",
   "id": "f2539d5c",
   "metadata": {
    "papermill": {
     "duration": 0.003638,
     "end_time": "2025-06-03T15:44:40.264791",
     "exception": false,
     "start_time": "2025-06-03T15:44:40.261153",
     "status": "completed"
    },
    "tags": []
   },
   "source": [
    "Verificar espaços vazios "
   ]
  },
  {
   "cell_type": "code",
   "execution_count": 8,
   "id": "038dd11f",
   "metadata": {
    "execution": {
     "iopub.execute_input": "2025-06-03T15:44:40.273952Z",
     "iopub.status.busy": "2025-06-03T15:44:40.273617Z",
     "iopub.status.idle": "2025-06-03T15:44:40.280099Z",
     "shell.execute_reply": "2025-06-03T15:44:40.279134Z"
    },
    "papermill": {
     "duration": 0.013008,
     "end_time": "2025-06-03T15:44:40.281702",
     "exception": false,
     "start_time": "2025-06-03T15:44:40.268694",
     "status": "completed"
    },
    "tags": []
   },
   "outputs": [],
   "source": [
    "df[\"VerificarTamanho\"] = df['nome'].str.len()"
   ]
  },
  {
   "cell_type": "code",
   "execution_count": 9,
   "id": "456212a5",
   "metadata": {
    "execution": {
     "iopub.execute_input": "2025-06-03T15:44:40.290845Z",
     "iopub.status.busy": "2025-06-03T15:44:40.290513Z",
     "iopub.status.idle": "2025-06-03T15:44:40.300104Z",
     "shell.execute_reply": "2025-06-03T15:44:40.299182Z"
    },
    "papermill": {
     "duration": 0.0161,
     "end_time": "2025-06-03T15:44:40.301589",
     "exception": false,
     "start_time": "2025-06-03T15:44:40.285489",
     "status": "completed"
    },
    "tags": []
   },
   "outputs": [
    {
     "data": {
      "text/html": [
       "<div>\n",
       "<style scoped>\n",
       "    .dataframe tbody tr th:only-of-type {\n",
       "        vertical-align: middle;\n",
       "    }\n",
       "\n",
       "    .dataframe tbody tr th {\n",
       "        vertical-align: top;\n",
       "    }\n",
       "\n",
       "    .dataframe thead th {\n",
       "        text-align: right;\n",
       "    }\n",
       "</style>\n",
       "<table border=\"1\" class=\"dataframe\">\n",
       "  <thead>\n",
       "    <tr style=\"text-align: right;\">\n",
       "      <th></th>\n",
       "      <th>nome</th>\n",
       "      <th>email</th>\n",
       "      <th>VerificarTamanho</th>\n",
       "    </tr>\n",
       "  </thead>\n",
       "  <tbody>\n",
       "    <tr>\n",
       "      <th>0</th>\n",
       "      <td>Ana Silva</td>\n",
       "      <td>ana.silva@exemplo.com</td>\n",
       "      <td>12</td>\n",
       "    </tr>\n",
       "    <tr>\n",
       "      <th>1</th>\n",
       "      <td>João Souza</td>\n",
       "      <td>joao.souza@exemplo.com</td>\n",
       "      <td>10</td>\n",
       "    </tr>\n",
       "    <tr>\n",
       "      <th>2</th>\n",
       "      <td>Maria Oliveira</td>\n",
       "      <td>maria.oliveira@exemplo.com</td>\n",
       "      <td>15</td>\n",
       "    </tr>\n",
       "    <tr>\n",
       "      <th>3</th>\n",
       "      <td>Carlos Pereira</td>\n",
       "      <td>carlos.pereira@exemplo.com</td>\n",
       "      <td>15</td>\n",
       "    </tr>\n",
       "  </tbody>\n",
       "</table>\n",
       "</div>"
      ],
      "text/plain": [
       "              nome                        email  VerificarTamanho\n",
       "0       Ana Silva         ana.silva@exemplo.com                12\n",
       "1       João Souza      joao.souza@exemplo.com                 10\n",
       "2   Maria Oliveira   maria.oliveira@exemplo.com                15\n",
       "3  Carlos Pereira    carlos.pereira@exemplo.com                15"
      ]
     },
     "execution_count": 9,
     "metadata": {},
     "output_type": "execute_result"
    }
   ],
   "source": [
    "df"
   ]
  },
  {
   "cell_type": "markdown",
   "id": "665f4282",
   "metadata": {
    "papermill": {
     "duration": 0.003675,
     "end_time": "2025-06-03T15:44:40.309531",
     "exception": false,
     "start_time": "2025-06-03T15:44:40.305856",
     "status": "completed"
    },
    "tags": []
   },
   "source": [
    "Tirando espaços se tiver"
   ]
  },
  {
   "cell_type": "code",
   "execution_count": 10,
   "id": "b6288bf5",
   "metadata": {
    "execution": {
     "iopub.execute_input": "2025-06-03T15:44:40.319036Z",
     "iopub.status.busy": "2025-06-03T15:44:40.318681Z",
     "iopub.status.idle": "2025-06-03T15:44:40.324566Z",
     "shell.execute_reply": "2025-06-03T15:44:40.323023Z"
    },
    "papermill": {
     "duration": 0.012903,
     "end_time": "2025-06-03T15:44:40.326446",
     "exception": false,
     "start_time": "2025-06-03T15:44:40.313543",
     "status": "completed"
    },
    "tags": []
   },
   "outputs": [],
   "source": [
    "df[\"nome\"] = df [\"nome\"].str.strip()"
   ]
  },
  {
   "cell_type": "code",
   "execution_count": 11,
   "id": "54f02c5b",
   "metadata": {
    "execution": {
     "iopub.execute_input": "2025-06-03T15:44:40.336059Z",
     "iopub.status.busy": "2025-06-03T15:44:40.335701Z",
     "iopub.status.idle": "2025-06-03T15:44:40.345389Z",
     "shell.execute_reply": "2025-06-03T15:44:40.344380Z"
    },
    "papermill": {
     "duration": 0.016384,
     "end_time": "2025-06-03T15:44:40.346971",
     "exception": false,
     "start_time": "2025-06-03T15:44:40.330587",
     "status": "completed"
    },
    "tags": []
   },
   "outputs": [
    {
     "data": {
      "text/html": [
       "<div>\n",
       "<style scoped>\n",
       "    .dataframe tbody tr th:only-of-type {\n",
       "        vertical-align: middle;\n",
       "    }\n",
       "\n",
       "    .dataframe tbody tr th {\n",
       "        vertical-align: top;\n",
       "    }\n",
       "\n",
       "    .dataframe thead th {\n",
       "        text-align: right;\n",
       "    }\n",
       "</style>\n",
       "<table border=\"1\" class=\"dataframe\">\n",
       "  <thead>\n",
       "    <tr style=\"text-align: right;\">\n",
       "      <th></th>\n",
       "      <th>nome</th>\n",
       "      <th>email</th>\n",
       "      <th>VerificarTamanho</th>\n",
       "    </tr>\n",
       "  </thead>\n",
       "  <tbody>\n",
       "    <tr>\n",
       "      <th>0</th>\n",
       "      <td>Ana Silva</td>\n",
       "      <td>ana.silva@exemplo.com</td>\n",
       "      <td>9</td>\n",
       "    </tr>\n",
       "    <tr>\n",
       "      <th>1</th>\n",
       "      <td>João Souza</td>\n",
       "      <td>joao.souza@exemplo.com</td>\n",
       "      <td>10</td>\n",
       "    </tr>\n",
       "    <tr>\n",
       "      <th>2</th>\n",
       "      <td>Maria Oliveira</td>\n",
       "      <td>maria.oliveira@exemplo.com</td>\n",
       "      <td>14</td>\n",
       "    </tr>\n",
       "    <tr>\n",
       "      <th>3</th>\n",
       "      <td>Carlos Pereira</td>\n",
       "      <td>carlos.pereira@exemplo.com</td>\n",
       "      <td>14</td>\n",
       "    </tr>\n",
       "  </tbody>\n",
       "</table>\n",
       "</div>"
      ],
      "text/plain": [
       "             nome                        email  VerificarTamanho\n",
       "0       Ana Silva        ana.silva@exemplo.com                 9\n",
       "1      João Souza      joao.souza@exemplo.com                 10\n",
       "2  Maria Oliveira   maria.oliveira@exemplo.com                14\n",
       "3  Carlos Pereira   carlos.pereira@exemplo.com                14"
      ]
     },
     "execution_count": 11,
     "metadata": {},
     "output_type": "execute_result"
    }
   ],
   "source": [
    "df[\"VerificarTamanho\"] = df['nome'].str.len()\n",
    "df"
   ]
  },
  {
   "cell_type": "markdown",
   "id": "a71283b1",
   "metadata": {
    "papermill": {
     "duration": 0.003916,
     "end_time": "2025-06-03T15:44:40.355273",
     "exception": false,
     "start_time": "2025-06-03T15:44:40.351357",
     "status": "completed"
    },
    "tags": []
   },
   "source": [
    "Como todos os @ são iguais, irei relirá-los"
   ]
  },
  {
   "cell_type": "code",
   "execution_count": 12,
   "id": "d3bc1d7d",
   "metadata": {
    "execution": {
     "iopub.execute_input": "2025-06-03T15:44:40.365407Z",
     "iopub.status.busy": "2025-06-03T15:44:40.365098Z",
     "iopub.status.idle": "2025-06-03T15:44:40.375540Z",
     "shell.execute_reply": "2025-06-03T15:44:40.374592Z"
    },
    "papermill": {
     "duration": 0.017326,
     "end_time": "2025-06-03T15:44:40.377257",
     "exception": false,
     "start_time": "2025-06-03T15:44:40.359931",
     "status": "completed"
    },
    "tags": []
   },
   "outputs": [
    {
     "data": {
      "text/html": [
       "<div>\n",
       "<style scoped>\n",
       "    .dataframe tbody tr th:only-of-type {\n",
       "        vertical-align: middle;\n",
       "    }\n",
       "\n",
       "    .dataframe tbody tr th {\n",
       "        vertical-align: top;\n",
       "    }\n",
       "\n",
       "    .dataframe thead th {\n",
       "        text-align: right;\n",
       "    }\n",
       "</style>\n",
       "<table border=\"1\" class=\"dataframe\">\n",
       "  <thead>\n",
       "    <tr style=\"text-align: right;\">\n",
       "      <th></th>\n",
       "      <th>nome</th>\n",
       "      <th>email</th>\n",
       "      <th>VerificarTamanho</th>\n",
       "    </tr>\n",
       "  </thead>\n",
       "  <tbody>\n",
       "    <tr>\n",
       "      <th>0</th>\n",
       "      <td>Ana Silva</td>\n",
       "      <td>ana.silva</td>\n",
       "      <td>9</td>\n",
       "    </tr>\n",
       "    <tr>\n",
       "      <th>1</th>\n",
       "      <td>João Souza</td>\n",
       "      <td>joao.souza</td>\n",
       "      <td>10</td>\n",
       "    </tr>\n",
       "    <tr>\n",
       "      <th>2</th>\n",
       "      <td>Maria Oliveira</td>\n",
       "      <td>maria.oliveira</td>\n",
       "      <td>14</td>\n",
       "    </tr>\n",
       "    <tr>\n",
       "      <th>3</th>\n",
       "      <td>Carlos Pereira</td>\n",
       "      <td>carlos.pereira</td>\n",
       "      <td>14</td>\n",
       "    </tr>\n",
       "  </tbody>\n",
       "</table>\n",
       "</div>"
      ],
      "text/plain": [
       "             nome            email  VerificarTamanho\n",
       "0       Ana Silva        ana.silva                 9\n",
       "1      João Souza      joao.souza                 10\n",
       "2  Maria Oliveira   maria.oliveira                14\n",
       "3  Carlos Pereira   carlos.pereira                14"
      ]
     },
     "execution_count": 12,
     "metadata": {},
     "output_type": "execute_result"
    }
   ],
   "source": [
    "df[\"email\"] = df[\"email\"].str.replace(\"@exemplo.com\",\"\", case=False)\n",
    "df"
   ]
  },
  {
   "cell_type": "markdown",
   "id": "aa4c5b92",
   "metadata": {
    "papermill": {
     "duration": 0.003981,
     "end_time": "2025-06-03T15:44:40.385676",
     "exception": false,
     "start_time": "2025-06-03T15:44:40.381695",
     "status": "completed"
    },
    "tags": []
   },
   "source": [
    "Dropando coluna que verifica o tamanho, sem necessidade de tê-la"
   ]
  },
  {
   "cell_type": "code",
   "execution_count": 13,
   "id": "dd931d34",
   "metadata": {
    "execution": {
     "iopub.execute_input": "2025-06-03T15:44:40.396072Z",
     "iopub.status.busy": "2025-06-03T15:44:40.395731Z",
     "iopub.status.idle": "2025-06-03T15:44:40.414160Z",
     "shell.execute_reply": "2025-06-03T15:44:40.413259Z"
    },
    "papermill": {
     "duration": 0.025978,
     "end_time": "2025-06-03T15:44:40.416476",
     "exception": false,
     "start_time": "2025-06-03T15:44:40.390498",
     "status": "completed"
    },
    "tags": []
   },
   "outputs": [
    {
     "data": {
      "text/html": [
       "<div>\n",
       "<style scoped>\n",
       "    .dataframe tbody tr th:only-of-type {\n",
       "        vertical-align: middle;\n",
       "    }\n",
       "\n",
       "    .dataframe tbody tr th {\n",
       "        vertical-align: top;\n",
       "    }\n",
       "\n",
       "    .dataframe thead th {\n",
       "        text-align: right;\n",
       "    }\n",
       "</style>\n",
       "<table border=\"1\" class=\"dataframe\">\n",
       "  <thead>\n",
       "    <tr style=\"text-align: right;\">\n",
       "      <th></th>\n",
       "      <th>nome</th>\n",
       "      <th>email</th>\n",
       "    </tr>\n",
       "  </thead>\n",
       "  <tbody>\n",
       "    <tr>\n",
       "      <th>0</th>\n",
       "      <td>Ana Silva</td>\n",
       "      <td>ana.silva</td>\n",
       "    </tr>\n",
       "    <tr>\n",
       "      <th>1</th>\n",
       "      <td>João Souza</td>\n",
       "      <td>joao.souza</td>\n",
       "    </tr>\n",
       "    <tr>\n",
       "      <th>2</th>\n",
       "      <td>Maria Oliveira</td>\n",
       "      <td>maria.oliveira</td>\n",
       "    </tr>\n",
       "    <tr>\n",
       "      <th>3</th>\n",
       "      <td>Carlos Pereira</td>\n",
       "      <td>carlos.pereira</td>\n",
       "    </tr>\n",
       "  </tbody>\n",
       "</table>\n",
       "</div>"
      ],
      "text/plain": [
       "             nome            email\n",
       "0       Ana Silva        ana.silva\n",
       "1      João Souza      joao.souza \n",
       "2  Maria Oliveira   maria.oliveira\n",
       "3  Carlos Pereira   carlos.pereira"
      ]
     },
     "execution_count": 13,
     "metadata": {},
     "output_type": "execute_result"
    }
   ],
   "source": [
    "df = df.drop('VerificarTamanho', axis=1)\n",
    "df"
   ]
  }
 ],
 "metadata": {
  "kaggle": {
   "accelerator": "none",
   "dataSources": [
    {
     "datasetId": 7540606,
     "sourceId": 11988752,
     "sourceType": "datasetVersion"
    }
   ],
   "dockerImageVersionId": 31040,
   "isGpuEnabled": false,
   "isInternetEnabled": false,
   "language": "python",
   "sourceType": "notebook"
  },
  "kernelspec": {
   "display_name": "Python 3",
   "language": "python",
   "name": "python3"
  },
  "language_info": {
   "codemirror_mode": {
    "name": "ipython",
    "version": 3
   },
   "file_extension": ".py",
   "mimetype": "text/x-python",
   "name": "python",
   "nbconvert_exporter": "python",
   "pygments_lexer": "ipython3",
   "version": "3.11.11"
  },
  "papermill": {
   "default_parameters": {},
   "duration": 8.391148,
   "end_time": "2025-06-03T15:44:40.942218",
   "environment_variables": {},
   "exception": null,
   "input_path": "__notebook__.ipynb",
   "output_path": "__notebook__.ipynb",
   "parameters": {},
   "start_time": "2025-06-03T15:44:32.551070",
   "version": "2.6.0"
  }
 },
 "nbformat": 4,
 "nbformat_minor": 5
}
