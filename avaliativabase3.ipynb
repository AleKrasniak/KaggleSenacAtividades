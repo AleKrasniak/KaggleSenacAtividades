{
 "cells": [
  {
   "cell_type": "code",
   "execution_count": 1,
   "id": "31f1182e",
   "metadata": {
    "_cell_guid": "b1076dfc-b9ad-4769-8c92-a6c4dae69d19",
    "_uuid": "8f2839f25d086af736a60e9eeb907d3b93b6e0e5",
    "execution": {
     "iopub.execute_input": "2025-06-03T15:41:44.444047Z",
     "iopub.status.busy": "2025-06-03T15:41:44.443683Z",
     "iopub.status.idle": "2025-06-03T15:41:46.701522Z",
     "shell.execute_reply": "2025-06-03T15:41:46.700108Z"
    },
    "papermill": {
     "duration": 2.265912,
     "end_time": "2025-06-03T15:41:46.704268",
     "exception": false,
     "start_time": "2025-06-03T15:41:44.438356",
     "status": "completed"
    },
    "tags": []
   },
   "outputs": [],
   "source": [
    "import pandas as pd"
   ]
  },
  {
   "cell_type": "code",
   "execution_count": 2,
   "id": "602b6efe",
   "metadata": {
    "execution": {
     "iopub.execute_input": "2025-06-03T15:41:46.713181Z",
     "iopub.status.busy": "2025-06-03T15:41:46.712549Z",
     "iopub.status.idle": "2025-06-03T15:41:46.760835Z",
     "shell.execute_reply": "2025-06-03T15:41:46.759878Z"
    },
    "papermill": {
     "duration": 0.054397,
     "end_time": "2025-06-03T15:41:46.762596",
     "exception": false,
     "start_time": "2025-06-03T15:41:46.708199",
     "status": "completed"
    },
    "tags": []
   },
   "outputs": [
    {
     "data": {
      "text/html": [
       "<div>\n",
       "<style scoped>\n",
       "    .dataframe tbody tr th:only-of-type {\n",
       "        vertical-align: middle;\n",
       "    }\n",
       "\n",
       "    .dataframe tbody tr th {\n",
       "        vertical-align: top;\n",
       "    }\n",
       "\n",
       "    .dataframe thead th {\n",
       "        text-align: right;\n",
       "    }\n",
       "</style>\n",
       "<table border=\"1\" class=\"dataframe\">\n",
       "  <thead>\n",
       "    <tr style=\"text-align: right;\">\n",
       "      <th></th>\n",
       "      <th>nome</th>\n",
       "      <th>email</th>\n",
       "    </tr>\n",
       "  </thead>\n",
       "  <tbody>\n",
       "    <tr>\n",
       "      <th>0</th>\n",
       "      <td>maria f. lima</td>\n",
       "      <td>maria.lima@exemplo.com</td>\n",
       "    </tr>\n",
       "    <tr>\n",
       "      <th>1</th>\n",
       "      <td>maria fernanda lima</td>\n",
       "      <td>maria.lima2@exemplo.com</td>\n",
       "    </tr>\n",
       "    <tr>\n",
       "      <th>2</th>\n",
       "      <td>j. p. da silva</td>\n",
       "      <td>joaopaulo@exemplo.com</td>\n",
       "    </tr>\n",
       "    <tr>\n",
       "      <th>3</th>\n",
       "      <td>joão paulo da silva</td>\n",
       "      <td>jp.silva@exemplo.com</td>\n",
       "    </tr>\n",
       "  </tbody>\n",
       "</table>\n",
       "</div>"
      ],
      "text/plain": [
       "                  nome                    email\n",
       "0        maria f. lima   maria.lima@exemplo.com\n",
       "1  maria fernanda lima  maria.lima2@exemplo.com\n",
       "2       j. p. da silva    joaopaulo@exemplo.com\n",
       "3  joão paulo da silva     jp.silva@exemplo.com"
      ]
     },
     "execution_count": 2,
     "metadata": {},
     "output_type": "execute_result"
    }
   ],
   "source": [
    "df = pd.read_csv('/kaggle/input/alunos-base3/alunos_base_3.csv')\n",
    "df"
   ]
  },
  {
   "cell_type": "code",
   "execution_count": 3,
   "id": "4e0780c6",
   "metadata": {
    "execution": {
     "iopub.execute_input": "2025-06-03T15:41:46.769542Z",
     "iopub.status.busy": "2025-06-03T15:41:46.769250Z",
     "iopub.status.idle": "2025-06-03T15:41:46.783966Z",
     "shell.execute_reply": "2025-06-03T15:41:46.782874Z"
    },
    "papermill": {
     "duration": 0.01999,
     "end_time": "2025-06-03T15:41:46.785543",
     "exception": false,
     "start_time": "2025-06-03T15:41:46.765553",
     "status": "completed"
    },
    "tags": []
   },
   "outputs": [
    {
     "data": {
      "text/html": [
       "<div>\n",
       "<style scoped>\n",
       "    .dataframe tbody tr th:only-of-type {\n",
       "        vertical-align: middle;\n",
       "    }\n",
       "\n",
       "    .dataframe tbody tr th {\n",
       "        vertical-align: top;\n",
       "    }\n",
       "\n",
       "    .dataframe thead th {\n",
       "        text-align: right;\n",
       "    }\n",
       "</style>\n",
       "<table border=\"1\" class=\"dataframe\">\n",
       "  <thead>\n",
       "    <tr style=\"text-align: right;\">\n",
       "      <th></th>\n",
       "      <th>nome</th>\n",
       "      <th>email</th>\n",
       "    </tr>\n",
       "  </thead>\n",
       "  <tbody>\n",
       "    <tr>\n",
       "      <th>0</th>\n",
       "      <td>Maria F. Lima</td>\n",
       "      <td>maria.lima@exemplo.com</td>\n",
       "    </tr>\n",
       "    <tr>\n",
       "      <th>1</th>\n",
       "      <td>Maria Fernanda Lima</td>\n",
       "      <td>maria.lima2@exemplo.com</td>\n",
       "    </tr>\n",
       "    <tr>\n",
       "      <th>2</th>\n",
       "      <td>J. P. Da Silva</td>\n",
       "      <td>joaopaulo@exemplo.com</td>\n",
       "    </tr>\n",
       "    <tr>\n",
       "      <th>3</th>\n",
       "      <td>João Paulo Da Silva</td>\n",
       "      <td>jp.silva@exemplo.com</td>\n",
       "    </tr>\n",
       "  </tbody>\n",
       "</table>\n",
       "</div>"
      ],
      "text/plain": [
       "                  nome                    email\n",
       "0        Maria F. Lima   maria.lima@exemplo.com\n",
       "1  Maria Fernanda Lima  maria.lima2@exemplo.com\n",
       "2       J. P. Da Silva    joaopaulo@exemplo.com\n",
       "3  João Paulo Da Silva     jp.silva@exemplo.com"
      ]
     },
     "execution_count": 3,
     "metadata": {},
     "output_type": "execute_result"
    }
   ],
   "source": [
    "df[\"nome\"] = df[\"nome\"].str.title().str.strip()\n",
    "df"
   ]
  },
  {
   "cell_type": "code",
   "execution_count": 4,
   "id": "6b8bd047",
   "metadata": {
    "execution": {
     "iopub.execute_input": "2025-06-03T15:41:46.793718Z",
     "iopub.status.busy": "2025-06-03T15:41:46.793125Z",
     "iopub.status.idle": "2025-06-03T15:41:46.805897Z",
     "shell.execute_reply": "2025-06-03T15:41:46.804662Z"
    },
    "papermill": {
     "duration": 0.019153,
     "end_time": "2025-06-03T15:41:46.807868",
     "exception": false,
     "start_time": "2025-06-03T15:41:46.788715",
     "status": "completed"
    },
    "tags": []
   },
   "outputs": [
    {
     "data": {
      "text/html": [
       "<div>\n",
       "<style scoped>\n",
       "    .dataframe tbody tr th:only-of-type {\n",
       "        vertical-align: middle;\n",
       "    }\n",
       "\n",
       "    .dataframe tbody tr th {\n",
       "        vertical-align: top;\n",
       "    }\n",
       "\n",
       "    .dataframe thead th {\n",
       "        text-align: right;\n",
       "    }\n",
       "</style>\n",
       "<table border=\"1\" class=\"dataframe\">\n",
       "  <thead>\n",
       "    <tr style=\"text-align: right;\">\n",
       "      <th></th>\n",
       "      <th>nome</th>\n",
       "      <th>email</th>\n",
       "    </tr>\n",
       "  </thead>\n",
       "  <tbody>\n",
       "    <tr>\n",
       "      <th>0</th>\n",
       "      <td>Maria Fernanda Lima</td>\n",
       "      <td>maria.lima@exemplo.com</td>\n",
       "    </tr>\n",
       "    <tr>\n",
       "      <th>1</th>\n",
       "      <td>Maria F. Lima</td>\n",
       "      <td>maria.lima2@exemplo.com</td>\n",
       "    </tr>\n",
       "    <tr>\n",
       "      <th>2</th>\n",
       "      <td>J. P. Da Silva</td>\n",
       "      <td>joaopaulo@exemplo.com</td>\n",
       "    </tr>\n",
       "    <tr>\n",
       "      <th>3</th>\n",
       "      <td>João Paulo Da Silva</td>\n",
       "      <td>jp.silva@exemplo.com</td>\n",
       "    </tr>\n",
       "  </tbody>\n",
       "</table>\n",
       "</div>"
      ],
      "text/plain": [
       "                  nome                    email\n",
       "0  Maria Fernanda Lima   maria.lima@exemplo.com\n",
       "1        Maria F. Lima  maria.lima2@exemplo.com\n",
       "2       J. P. Da Silva    joaopaulo@exemplo.com\n",
       "3  João Paulo Da Silva     jp.silva@exemplo.com"
      ]
     },
     "execution_count": 4,
     "metadata": {},
     "output_type": "execute_result"
    }
   ],
   "source": [
    "temp = df.at[0, 'nome']\n",
    "df.at[0, 'nome'] = df.at[1, 'nome']\n",
    "df.at[1, 'nome'] = temp\n",
    "df"
   ]
  },
  {
   "cell_type": "code",
   "execution_count": 5,
   "id": "e8ca0e93",
   "metadata": {
    "execution": {
     "iopub.execute_input": "2025-06-03T15:41:46.815467Z",
     "iopub.status.busy": "2025-06-03T15:41:46.815144Z",
     "iopub.status.idle": "2025-06-03T15:41:46.824885Z",
     "shell.execute_reply": "2025-06-03T15:41:46.823865Z"
    },
    "papermill": {
     "duration": 0.016083,
     "end_time": "2025-06-03T15:41:46.827222",
     "exception": false,
     "start_time": "2025-06-03T15:41:46.811139",
     "status": "completed"
    },
    "tags": []
   },
   "outputs": [
    {
     "data": {
      "text/html": [
       "<div>\n",
       "<style scoped>\n",
       "    .dataframe tbody tr th:only-of-type {\n",
       "        vertical-align: middle;\n",
       "    }\n",
       "\n",
       "    .dataframe tbody tr th {\n",
       "        vertical-align: top;\n",
       "    }\n",
       "\n",
       "    .dataframe thead th {\n",
       "        text-align: right;\n",
       "    }\n",
       "</style>\n",
       "<table border=\"1\" class=\"dataframe\">\n",
       "  <thead>\n",
       "    <tr style=\"text-align: right;\">\n",
       "      <th></th>\n",
       "      <th>nome</th>\n",
       "      <th>email</th>\n",
       "    </tr>\n",
       "  </thead>\n",
       "  <tbody>\n",
       "    <tr>\n",
       "      <th>0</th>\n",
       "      <td>Maria Fernanda Lima</td>\n",
       "      <td>maria.lima@exemplo.com</td>\n",
       "    </tr>\n",
       "    <tr>\n",
       "      <th>1</th>\n",
       "      <td>Maria F. Lima</td>\n",
       "      <td>maria.lima2@exemplo.com</td>\n",
       "    </tr>\n",
       "    <tr>\n",
       "      <th>2</th>\n",
       "      <td>João Paulo Da Silva</td>\n",
       "      <td>joaopaulo@exemplo.com</td>\n",
       "    </tr>\n",
       "    <tr>\n",
       "      <th>3</th>\n",
       "      <td>J. P. Da Silva</td>\n",
       "      <td>jp.silva@exemplo.com</td>\n",
       "    </tr>\n",
       "  </tbody>\n",
       "</table>\n",
       "</div>"
      ],
      "text/plain": [
       "                  nome                    email\n",
       "0  Maria Fernanda Lima   maria.lima@exemplo.com\n",
       "1        Maria F. Lima  maria.lima2@exemplo.com\n",
       "2  João Paulo Da Silva    joaopaulo@exemplo.com\n",
       "3       J. P. Da Silva     jp.silva@exemplo.com"
      ]
     },
     "execution_count": 5,
     "metadata": {},
     "output_type": "execute_result"
    }
   ],
   "source": [
    "temp = df.at[2, 'nome']\n",
    "df.at[2, 'nome'] = df.at[3, 'nome']\n",
    "df.at[3, 'nome'] = temp\n",
    "df"
   ]
  },
  {
   "cell_type": "code",
   "execution_count": 6,
   "id": "eedbaf1d",
   "metadata": {
    "execution": {
     "iopub.execute_input": "2025-06-03T15:41:46.835134Z",
     "iopub.status.busy": "2025-06-03T15:41:46.834785Z",
     "iopub.status.idle": "2025-06-03T15:41:46.844963Z",
     "shell.execute_reply": "2025-06-03T15:41:46.843937Z"
    },
    "papermill": {
     "duration": 0.016047,
     "end_time": "2025-06-03T15:41:46.846574",
     "exception": false,
     "start_time": "2025-06-03T15:41:46.830527",
     "status": "completed"
    },
    "tags": []
   },
   "outputs": [
    {
     "data": {
      "text/html": [
       "<div>\n",
       "<style scoped>\n",
       "    .dataframe tbody tr th:only-of-type {\n",
       "        vertical-align: middle;\n",
       "    }\n",
       "\n",
       "    .dataframe tbody tr th {\n",
       "        vertical-align: top;\n",
       "    }\n",
       "\n",
       "    .dataframe thead th {\n",
       "        text-align: right;\n",
       "    }\n",
       "</style>\n",
       "<table border=\"1\" class=\"dataframe\">\n",
       "  <thead>\n",
       "    <tr style=\"text-align: right;\">\n",
       "      <th></th>\n",
       "      <th>nome</th>\n",
       "      <th>email</th>\n",
       "    </tr>\n",
       "  </thead>\n",
       "  <tbody>\n",
       "    <tr>\n",
       "      <th>0</th>\n",
       "      <td>Maria Fernanda Lima</td>\n",
       "      <td>maria.lima</td>\n",
       "    </tr>\n",
       "    <tr>\n",
       "      <th>1</th>\n",
       "      <td>Maria F. Lima</td>\n",
       "      <td>maria.lima2</td>\n",
       "    </tr>\n",
       "    <tr>\n",
       "      <th>2</th>\n",
       "      <td>João Paulo Da Silva</td>\n",
       "      <td>joaopaulo</td>\n",
       "    </tr>\n",
       "    <tr>\n",
       "      <th>3</th>\n",
       "      <td>J. P. Da Silva</td>\n",
       "      <td>jp.silva</td>\n",
       "    </tr>\n",
       "  </tbody>\n",
       "</table>\n",
       "</div>"
      ],
      "text/plain": [
       "                  nome        email\n",
       "0  Maria Fernanda Lima   maria.lima\n",
       "1        Maria F. Lima  maria.lima2\n",
       "2  João Paulo Da Silva    joaopaulo\n",
       "3       J. P. Da Silva     jp.silva"
      ]
     },
     "execution_count": 6,
     "metadata": {},
     "output_type": "execute_result"
    }
   ],
   "source": [
    "df[\"email\"] = df[\"email\"].str.replace('@exemplo.com','',case=False).str.strip().str.lower()\n",
    "df"
   ]
  },
  {
   "cell_type": "code",
   "execution_count": 7,
   "id": "8155270a",
   "metadata": {
    "execution": {
     "iopub.execute_input": "2025-06-03T15:41:46.855669Z",
     "iopub.status.busy": "2025-06-03T15:41:46.855334Z",
     "iopub.status.idle": "2025-06-03T15:41:46.868366Z",
     "shell.execute_reply": "2025-06-03T15:41:46.867456Z"
    },
    "papermill": {
     "duration": 0.019751,
     "end_time": "2025-06-03T15:41:46.870048",
     "exception": false,
     "start_time": "2025-06-03T15:41:46.850297",
     "status": "completed"
    },
    "tags": []
   },
   "outputs": [
    {
     "data": {
      "text/html": [
       "<div>\n",
       "<style scoped>\n",
       "    .dataframe tbody tr th:only-of-type {\n",
       "        vertical-align: middle;\n",
       "    }\n",
       "\n",
       "    .dataframe tbody tr th {\n",
       "        vertical-align: top;\n",
       "    }\n",
       "\n",
       "    .dataframe thead th {\n",
       "        text-align: right;\n",
       "    }\n",
       "</style>\n",
       "<table border=\"1\" class=\"dataframe\">\n",
       "  <thead>\n",
       "    <tr style=\"text-align: right;\">\n",
       "      <th></th>\n",
       "      <th>nome</th>\n",
       "      <th>email</th>\n",
       "    </tr>\n",
       "  </thead>\n",
       "  <tbody>\n",
       "    <tr>\n",
       "      <th>0</th>\n",
       "      <td>Maria Fernanda Lima</td>\n",
       "      <td>maria.lima</td>\n",
       "    </tr>\n",
       "    <tr>\n",
       "      <th>1</th>\n",
       "      <td>Maria Fernanda Lima</td>\n",
       "      <td>maria.lima2</td>\n",
       "    </tr>\n",
       "    <tr>\n",
       "      <th>2</th>\n",
       "      <td>João Paulo Da Silva</td>\n",
       "      <td>joaopaulo</td>\n",
       "    </tr>\n",
       "    <tr>\n",
       "      <th>3</th>\n",
       "      <td>João Paulo Da Silva</td>\n",
       "      <td>jp.silva</td>\n",
       "    </tr>\n",
       "  </tbody>\n",
       "</table>\n",
       "</div>"
      ],
      "text/plain": [
       "                  nome        email\n",
       "0  Maria Fernanda Lima   maria.lima\n",
       "1  Maria Fernanda Lima  maria.lima2\n",
       "2  João Paulo Da Silva    joaopaulo\n",
       "3  João Paulo Da Silva     jp.silva"
      ]
     },
     "execution_count": 7,
     "metadata": {},
     "output_type": "execute_result"
    }
   ],
   "source": [
    "df.loc[df['nome'] == 'Maria F. Lima', 'nome'] = 'Maria Fernanda Lima'\n",
    "df.loc[df['nome'] == 'J. P. Da Silva', 'nome'] = 'João Paulo Da Silva'\n",
    "df"
   ]
  },
  {
   "cell_type": "code",
   "execution_count": 8,
   "id": "80057da0",
   "metadata": {
    "execution": {
     "iopub.execute_input": "2025-06-03T15:41:46.878433Z",
     "iopub.status.busy": "2025-06-03T15:41:46.878110Z",
     "iopub.status.idle": "2025-06-03T15:41:46.884181Z",
     "shell.execute_reply": "2025-06-03T15:41:46.883057Z"
    },
    "papermill": {
     "duration": 0.012188,
     "end_time": "2025-06-03T15:41:46.885803",
     "exception": false,
     "start_time": "2025-06-03T15:41:46.873615",
     "status": "completed"
    },
    "tags": []
   },
   "outputs": [],
   "source": [
    "df.insert(2, 'email_2', ['maria.lima2', None, 'jp.silva', None])"
   ]
  },
  {
   "cell_type": "code",
   "execution_count": 9,
   "id": "21813296",
   "metadata": {
    "execution": {
     "iopub.execute_input": "2025-06-03T15:41:46.894209Z",
     "iopub.status.busy": "2025-06-03T15:41:46.893881Z",
     "iopub.status.idle": "2025-06-03T15:41:46.903224Z",
     "shell.execute_reply": "2025-06-03T15:41:46.902295Z"
    },
    "papermill": {
     "duration": 0.015524,
     "end_time": "2025-06-03T15:41:46.904968",
     "exception": false,
     "start_time": "2025-06-03T15:41:46.889444",
     "status": "completed"
    },
    "tags": []
   },
   "outputs": [
    {
     "data": {
      "text/html": [
       "<div>\n",
       "<style scoped>\n",
       "    .dataframe tbody tr th:only-of-type {\n",
       "        vertical-align: middle;\n",
       "    }\n",
       "\n",
       "    .dataframe tbody tr th {\n",
       "        vertical-align: top;\n",
       "    }\n",
       "\n",
       "    .dataframe thead th {\n",
       "        text-align: right;\n",
       "    }\n",
       "</style>\n",
       "<table border=\"1\" class=\"dataframe\">\n",
       "  <thead>\n",
       "    <tr style=\"text-align: right;\">\n",
       "      <th></th>\n",
       "      <th>nome</th>\n",
       "      <th>email</th>\n",
       "      <th>email_2</th>\n",
       "    </tr>\n",
       "  </thead>\n",
       "  <tbody>\n",
       "    <tr>\n",
       "      <th>0</th>\n",
       "      <td>Maria Fernanda Lima</td>\n",
       "      <td>maria.lima</td>\n",
       "      <td>maria.lima2</td>\n",
       "    </tr>\n",
       "    <tr>\n",
       "      <th>1</th>\n",
       "      <td>Maria Fernanda Lima</td>\n",
       "      <td>maria.lima2</td>\n",
       "      <td>None</td>\n",
       "    </tr>\n",
       "    <tr>\n",
       "      <th>2</th>\n",
       "      <td>João Paulo Da Silva</td>\n",
       "      <td>joaopaulo</td>\n",
       "      <td>jp.silva</td>\n",
       "    </tr>\n",
       "    <tr>\n",
       "      <th>3</th>\n",
       "      <td>João Paulo Da Silva</td>\n",
       "      <td>jp.silva</td>\n",
       "      <td>None</td>\n",
       "    </tr>\n",
       "  </tbody>\n",
       "</table>\n",
       "</div>"
      ],
      "text/plain": [
       "                  nome        email      email_2\n",
       "0  Maria Fernanda Lima   maria.lima  maria.lima2\n",
       "1  Maria Fernanda Lima  maria.lima2         None\n",
       "2  João Paulo Da Silva    joaopaulo     jp.silva\n",
       "3  João Paulo Da Silva     jp.silva         None"
      ]
     },
     "execution_count": 9,
     "metadata": {},
     "output_type": "execute_result"
    }
   ],
   "source": [
    "df"
   ]
  },
  {
   "cell_type": "code",
   "execution_count": 10,
   "id": "3dd4dc8e",
   "metadata": {
    "execution": {
     "iopub.execute_input": "2025-06-03T15:41:46.913634Z",
     "iopub.status.busy": "2025-06-03T15:41:46.913316Z",
     "iopub.status.idle": "2025-06-03T15:41:46.925511Z",
     "shell.execute_reply": "2025-06-03T15:41:46.924451Z"
    },
    "papermill": {
     "duration": 0.018277,
     "end_time": "2025-06-03T15:41:46.927121",
     "exception": false,
     "start_time": "2025-06-03T15:41:46.908844",
     "status": "completed"
    },
    "tags": []
   },
   "outputs": [],
   "source": [
    "df= df.drop(1)\n",
    "df= df.drop(3)"
   ]
  },
  {
   "cell_type": "code",
   "execution_count": 11,
   "id": "bac9f894",
   "metadata": {
    "execution": {
     "iopub.execute_input": "2025-06-03T15:41:46.935475Z",
     "iopub.status.busy": "2025-06-03T15:41:46.935169Z",
     "iopub.status.idle": "2025-06-03T15:41:46.944087Z",
     "shell.execute_reply": "2025-06-03T15:41:46.943087Z"
    },
    "papermill": {
     "duration": 0.014918,
     "end_time": "2025-06-03T15:41:46.945616",
     "exception": false,
     "start_time": "2025-06-03T15:41:46.930698",
     "status": "completed"
    },
    "tags": []
   },
   "outputs": [
    {
     "data": {
      "text/html": [
       "<div>\n",
       "<style scoped>\n",
       "    .dataframe tbody tr th:only-of-type {\n",
       "        vertical-align: middle;\n",
       "    }\n",
       "\n",
       "    .dataframe tbody tr th {\n",
       "        vertical-align: top;\n",
       "    }\n",
       "\n",
       "    .dataframe thead th {\n",
       "        text-align: right;\n",
       "    }\n",
       "</style>\n",
       "<table border=\"1\" class=\"dataframe\">\n",
       "  <thead>\n",
       "    <tr style=\"text-align: right;\">\n",
       "      <th></th>\n",
       "      <th>nome</th>\n",
       "      <th>email</th>\n",
       "      <th>email_2</th>\n",
       "    </tr>\n",
       "  </thead>\n",
       "  <tbody>\n",
       "    <tr>\n",
       "      <th>0</th>\n",
       "      <td>Maria Fernanda Lima</td>\n",
       "      <td>maria.lima</td>\n",
       "      <td>maria.lima2</td>\n",
       "    </tr>\n",
       "    <tr>\n",
       "      <th>2</th>\n",
       "      <td>João Paulo Da Silva</td>\n",
       "      <td>joaopaulo</td>\n",
       "      <td>jp.silva</td>\n",
       "    </tr>\n",
       "  </tbody>\n",
       "</table>\n",
       "</div>"
      ],
      "text/plain": [
       "                  nome       email      email_2\n",
       "0  Maria Fernanda Lima  maria.lima  maria.lima2\n",
       "2  João Paulo Da Silva   joaopaulo     jp.silva"
      ]
     },
     "execution_count": 11,
     "metadata": {},
     "output_type": "execute_result"
    }
   ],
   "source": [
    "df"
   ]
  }
 ],
 "metadata": {
  "kaggle": {
   "accelerator": "none",
   "dataSources": [
    {
     "datasetId": 7582564,
     "sourceId": 12048734,
     "sourceType": "datasetVersion"
    }
   ],
   "dockerImageVersionId": 31040,
   "isGpuEnabled": false,
   "isInternetEnabled": false,
   "language": "python",
   "sourceType": "notebook"
  },
  "kernelspec": {
   "display_name": "Python 3",
   "language": "python",
   "name": "python3"
  },
  "language_info": {
   "codemirror_mode": {
    "name": "ipython",
    "version": 3
   },
   "file_extension": ".py",
   "mimetype": "text/x-python",
   "name": "python",
   "nbconvert_exporter": "python",
   "pygments_lexer": "ipython3",
   "version": "3.11.11"
  },
  "papermill": {
   "default_parameters": {},
   "duration": 8.505895,
   "end_time": "2025-06-03T15:41:47.570805",
   "environment_variables": {},
   "exception": null,
   "input_path": "__notebook__.ipynb",
   "output_path": "__notebook__.ipynb",
   "parameters": {},
   "start_time": "2025-06-03T15:41:39.064910",
   "version": "2.6.0"
  }
 },
 "nbformat": 4,
 "nbformat_minor": 5
}
